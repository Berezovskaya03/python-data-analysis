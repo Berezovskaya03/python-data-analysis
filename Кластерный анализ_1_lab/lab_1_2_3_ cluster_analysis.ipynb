{
 "cells": [
  {
   "cell_type": "markdown",
   "id": "3544b8d5",
   "metadata": {},
   "source": [
    "### Иерархический кластерный анализ"
   ]
  },
  {
   "cell_type": "code",
   "execution_count": 537,
   "id": "6c1ed476",
   "metadata": {},
   "outputs": [],
   "source": [
    "#   активируем библиотеки\n",
    "\n",
    "import pandas as pd\n",
    "import numpy as np\n",
    "\n",
    "import matplotlib\n",
    "import matplotlib.pyplot as plt\n",
    "\n",
    "plt.style.use('seaborn')\n",
    "\n",
    "#  Еще одна графическая библиотека\n",
    "import seaborn as sns\n",
    "\n",
    "#  Эта строчка нужна для того, чтобы картинки отображались в ячейках\n",
    "%matplotlib inline\n",
    "\n",
    "import warnings\n",
    "warnings.filterwarnings('ignore')"
   ]
  },
  {
   "cell_type": "code",
   "execution_count": 538,
   "id": "3a10360e",
   "metadata": {},
   "outputs": [],
   "source": [
    "import os"
   ]
  },
  {
   "cell_type": "code",
   "execution_count": 539,
   "id": "a3507fe6",
   "metadata": {},
   "outputs": [],
   "source": [
    "os.chdir(\"C:/Users/Соня/OneDrive/Рабочий стол/jupyter/analis_python/lab_1_3/задача_1_леденцы\")"
   ]
  },
  {
   "cell_type": "code",
   "execution_count": 540,
   "id": "a7fcd10c",
   "metadata": {},
   "outputs": [],
   "source": [
    "df = pd.read_csv('Леденцы.dat', sep=\";\", header = 0, index_col=False)"
   ]
  },
  {
   "cell_type": "markdown",
   "id": "c9e0ac38",
   "metadata": {},
   "source": [
    "**Предобработка данных**"
   ]
  },
  {
   "cell_type": "code",
   "execution_count": 541,
   "id": "3802d83e",
   "metadata": {},
   "outputs": [
    {
     "name": "stdout",
     "output_type": "stream",
     "text": [
      "<class 'pandas.core.frame.DataFrame'>\n",
      "RangeIndex: 338 entries, 0 to 337\n",
      "Data columns (total 11 columns):\n",
      " #   Column  Non-Null Count  Dtype\n",
      "---  ------  --------------  -----\n",
      " 0   V1      338 non-null    int64\n",
      " 1   V2      338 non-null    int64\n",
      " 2   V3      338 non-null    int64\n",
      " 3   V4      338 non-null    int64\n",
      " 4   V5      338 non-null    int64\n",
      " 5   V6      338 non-null    int64\n",
      " 6   V7      338 non-null    int64\n",
      " 7   V8      338 non-null    int64\n",
      " 8   V9      338 non-null    int64\n",
      " 9   V10     338 non-null    int64\n",
      " 10  V11     338 non-null    int64\n",
      "dtypes: int64(11)\n",
      "memory usage: 29.2 KB\n"
     ]
    }
   ],
   "source": [
    "# проверяем тип данных и пропуски\n",
    "df.info()"
   ]
  },
  {
   "cell_type": "code",
   "execution_count": 542,
   "id": "8aa912f9",
   "metadata": {},
   "outputs": [
    {
     "data": {
      "text/html": [
       "<div>\n",
       "<style scoped>\n",
       "    .dataframe tbody tr th:only-of-type {\n",
       "        vertical-align: middle;\n",
       "    }\n",
       "\n",
       "    .dataframe tbody tr th {\n",
       "        vertical-align: top;\n",
       "    }\n",
       "\n",
       "    .dataframe thead th {\n",
       "        text-align: right;\n",
       "    }\n",
       "</style>\n",
       "<table border=\"1\" class=\"dataframe\">\n",
       "  <thead>\n",
       "    <tr style=\"text-align: right;\">\n",
       "      <th></th>\n",
       "      <th>V1</th>\n",
       "      <th>V2</th>\n",
       "      <th>V3</th>\n",
       "      <th>V4</th>\n",
       "      <th>V5</th>\n",
       "      <th>V6</th>\n",
       "      <th>V7</th>\n",
       "      <th>V8</th>\n",
       "      <th>V9</th>\n",
       "      <th>V10</th>\n",
       "      <th>V11</th>\n",
       "    </tr>\n",
       "  </thead>\n",
       "  <tbody>\n",
       "    <tr>\n",
       "      <th>0</th>\n",
       "      <td>4</td>\n",
       "      <td>5</td>\n",
       "      <td>5</td>\n",
       "      <td>5</td>\n",
       "      <td>3</td>\n",
       "      <td>3</td>\n",
       "      <td>3</td>\n",
       "      <td>3</td>\n",
       "      <td>3</td>\n",
       "      <td>3</td>\n",
       "      <td>3</td>\n",
       "    </tr>\n",
       "    <tr>\n",
       "      <th>1</th>\n",
       "      <td>5</td>\n",
       "      <td>4</td>\n",
       "      <td>5</td>\n",
       "      <td>5</td>\n",
       "      <td>3</td>\n",
       "      <td>3</td>\n",
       "      <td>3</td>\n",
       "      <td>3</td>\n",
       "      <td>3</td>\n",
       "      <td>3</td>\n",
       "      <td>3</td>\n",
       "    </tr>\n",
       "    <tr>\n",
       "      <th>2</th>\n",
       "      <td>5</td>\n",
       "      <td>5</td>\n",
       "      <td>4</td>\n",
       "      <td>5</td>\n",
       "      <td>3</td>\n",
       "      <td>3</td>\n",
       "      <td>3</td>\n",
       "      <td>3</td>\n",
       "      <td>3</td>\n",
       "      <td>3</td>\n",
       "      <td>3</td>\n",
       "    </tr>\n",
       "    <tr>\n",
       "      <th>3</th>\n",
       "      <td>5</td>\n",
       "      <td>4</td>\n",
       "      <td>5</td>\n",
       "      <td>5</td>\n",
       "      <td>3</td>\n",
       "      <td>3</td>\n",
       "      <td>3</td>\n",
       "      <td>3</td>\n",
       "      <td>3</td>\n",
       "      <td>3</td>\n",
       "      <td>3</td>\n",
       "    </tr>\n",
       "    <tr>\n",
       "      <th>4</th>\n",
       "      <td>4</td>\n",
       "      <td>5</td>\n",
       "      <td>5</td>\n",
       "      <td>5</td>\n",
       "      <td>3</td>\n",
       "      <td>3</td>\n",
       "      <td>3</td>\n",
       "      <td>3</td>\n",
       "      <td>3</td>\n",
       "      <td>3</td>\n",
       "      <td>3</td>\n",
       "    </tr>\n",
       "  </tbody>\n",
       "</table>\n",
       "</div>"
      ],
      "text/plain": [
       "   V1  V2  V3  V4  V5  V6  V7  V8  V9  V10  V11\n",
       "0   4   5   5   5   3   3   3   3   3    3    3\n",
       "1   5   4   5   5   3   3   3   3   3    3    3\n",
       "2   5   5   4   5   3   3   3   3   3    3    3\n",
       "3   5   4   5   5   3   3   3   3   3    3    3\n",
       "4   4   5   5   5   3   3   3   3   3    3    3"
      ]
     },
     "execution_count": 542,
     "metadata": {},
     "output_type": "execute_result"
    }
   ],
   "source": [
    "df.head(5)"
   ]
  },
  {
   "cell_type": "code",
   "execution_count": 543,
   "id": "99a2d201",
   "metadata": {},
   "outputs": [
    {
     "name": "stdout",
     "output_type": "stream",
     "text": [
      "V1     2\n",
      "V2     2\n",
      "V3     2\n",
      "V4     2\n",
      "V5     2\n",
      "V6     2\n",
      "V7     2\n",
      "V8     2\n",
      "V9     2\n",
      "V10    2\n",
      "V11    2\n",
      "dtype: int64\n",
      "V1     5\n",
      "V2     5\n",
      "V3     5\n",
      "V4     5\n",
      "V5     5\n",
      "V6     5\n",
      "V7     5\n",
      "V8     5\n",
      "V9     5\n",
      "V10    5\n",
      "V11    5\n",
      "dtype: int64\n"
     ]
    }
   ],
   "source": [
    "#смотрим нет ли некорректных оценок\n",
    "print(df.min())\n",
    "print(df.max())"
   ]
  },
  {
   "cell_type": "markdown",
   "id": "3a225140",
   "metadata": {},
   "source": [
    "**Так как данные однородные, без пропусков с одинаковым диапазоном значений, то делать с ними ничего не нужно**"
   ]
  },
  {
   "cell_type": "code",
   "execution_count": 544,
   "id": "0a3bf175",
   "metadata": {},
   "outputs": [],
   "source": [
    "df1 = df #сохраним без изменений"
   ]
  },
  {
   "cell_type": "code",
   "execution_count": 545,
   "id": "0688a60f",
   "metadata": {},
   "outputs": [
    {
     "data": {
      "image/png": "[encoded data removed]",
      "text/plain": [
       "<Figure size 800x550 with 1 Axes>"
      ]
     },
     "metadata": {},
     "output_type": "display_data"
    }
   ],
   "source": [
    "from scipy.cluster.hierarchy import dendrogram, linkage, fcluster\n",
    "\n",
    "link = linkage(df1, \"ward\", \"euclidean\") #Выполнить иерархическую кластеризацию\n",
    "dn = dendrogram(link, orientation = \"right\")"
   ]
  },
  {
   "cell_type": "markdown",
   "id": "88fda2e9",
   "metadata": {},
   "source": [
    "**Судя по дендрограмме у нас скорее всего 4 кластера. Также можно рассмтреть 3 и 5 кластеров, если не получится проинтерпретировать результаты для 4 кластеров.**"
   ]
  },
  {
   "cell_type": "markdown",
   "id": "24bcd391",
   "metadata": {},
   "source": [
    "Разобьем на 4 кластера"
   ]
  },
  {
   "cell_type": "code",
   "execution_count": 546,
   "id": "4fc1571d",
   "metadata": {},
   "outputs": [],
   "source": [
    "df1[\"cluster\"] = fcluster(link, 4, criterion='maxclust')"
   ]
  },
  {
   "cell_type": "markdown",
   "id": "f144e644",
   "metadata": {},
   "source": [
    "Вычислим среднее значение"
   ]
  },
  {
   "cell_type": "code",
   "execution_count": 547,
   "id": "98319d62",
   "metadata": {
    "scrolled": true
   },
   "outputs": [
    {
     "data": {
      "text/html": [
       "<div>\n",
       "<style scoped>\n",
       "    .dataframe tbody tr th:only-of-type {\n",
       "        vertical-align: middle;\n",
       "    }\n",
       "\n",
       "    .dataframe tbody tr th {\n",
       "        vertical-align: top;\n",
       "    }\n",
       "\n",
       "    .dataframe thead th {\n",
       "        text-align: right;\n",
       "    }\n",
       "</style>\n",
       "<table border=\"1\" class=\"dataframe\">\n",
       "  <thead>\n",
       "    <tr style=\"text-align: right;\">\n",
       "      <th></th>\n",
       "      <th>V1</th>\n",
       "      <th>V2</th>\n",
       "      <th>V3</th>\n",
       "      <th>V4</th>\n",
       "      <th>V5</th>\n",
       "      <th>V6</th>\n",
       "      <th>V7</th>\n",
       "      <th>V8</th>\n",
       "      <th>V9</th>\n",
       "      <th>V10</th>\n",
       "      <th>V11</th>\n",
       "    </tr>\n",
       "    <tr>\n",
       "      <th>cluster</th>\n",
       "      <th></th>\n",
       "      <th></th>\n",
       "      <th></th>\n",
       "      <th></th>\n",
       "      <th></th>\n",
       "      <th></th>\n",
       "      <th></th>\n",
       "      <th></th>\n",
       "      <th></th>\n",
       "      <th></th>\n",
       "      <th></th>\n",
       "    </tr>\n",
       "  </thead>\n",
       "  <tbody>\n",
       "    <tr>\n",
       "      <th>1</th>\n",
       "      <td>2.8</td>\n",
       "      <td>2.8</td>\n",
       "      <td>2.8</td>\n",
       "      <td>2.6</td>\n",
       "      <td>2.6</td>\n",
       "      <td>2.6</td>\n",
       "      <td>2.8</td>\n",
       "      <td>2.9</td>\n",
       "      <td>5.0</td>\n",
       "      <td>4.8</td>\n",
       "      <td>4.9</td>\n",
       "    </tr>\n",
       "    <tr>\n",
       "      <th>2</th>\n",
       "      <td>4.8</td>\n",
       "      <td>4.8</td>\n",
       "      <td>4.8</td>\n",
       "      <td>4.7</td>\n",
       "      <td>3.0</td>\n",
       "      <td>3.0</td>\n",
       "      <td>3.0</td>\n",
       "      <td>3.0</td>\n",
       "      <td>3.1</td>\n",
       "      <td>3.0</td>\n",
       "      <td>3.0</td>\n",
       "    </tr>\n",
       "    <tr>\n",
       "      <th>3</th>\n",
       "      <td>3.0</td>\n",
       "      <td>3.0</td>\n",
       "      <td>3.0</td>\n",
       "      <td>2.9</td>\n",
       "      <td>2.9</td>\n",
       "      <td>2.9</td>\n",
       "      <td>4.9</td>\n",
       "      <td>4.9</td>\n",
       "      <td>3.0</td>\n",
       "      <td>3.0</td>\n",
       "      <td>3.0</td>\n",
       "    </tr>\n",
       "    <tr>\n",
       "      <th>4</th>\n",
       "      <td>3.0</td>\n",
       "      <td>3.0</td>\n",
       "      <td>3.0</td>\n",
       "      <td>3.0</td>\n",
       "      <td>4.9</td>\n",
       "      <td>4.9</td>\n",
       "      <td>3.0</td>\n",
       "      <td>2.9</td>\n",
       "      <td>2.8</td>\n",
       "      <td>2.8</td>\n",
       "      <td>2.8</td>\n",
       "    </tr>\n",
       "  </tbody>\n",
       "</table>\n",
       "</div>"
      ],
      "text/plain": [
       "          V1   V2   V3   V4   V5   V6   V7   V8   V9  V10  V11\n",
       "cluster                                                       \n",
       "1        2.8  2.8  2.8  2.6  2.6  2.6  2.8  2.9  5.0  4.8  4.9\n",
       "2        4.8  4.8  4.8  4.7  3.0  3.0  3.0  3.0  3.1  3.0  3.0\n",
       "3        3.0  3.0  3.0  2.9  2.9  2.9  4.9  4.9  3.0  3.0  3.0\n",
       "4        3.0  3.0  3.0  3.0  4.9  4.9  3.0  2.9  2.8  2.8  2.8"
      ]
     },
     "execution_count": 547,
     "metadata": {},
     "output_type": "execute_result"
    }
   ],
   "source": [
    "round(df1.groupby(\"cluster\").mean(), 1)"
   ]
  },
  {
   "cell_type": "code",
   "execution_count": 548,
   "id": "1773029f",
   "metadata": {},
   "outputs": [
    {
     "data": {
      "text/plain": [
       "cluster\n",
       "1    108\n",
       "2    110\n",
       "3     59\n",
       "4     61\n",
       "dtype: int64"
      ]
     },
     "execution_count": 548,
     "metadata": {},
     "output_type": "execute_result"
    }
   ],
   "source": [
    "df1.groupby(\"cluster\").size()"
   ]
  },
  {
   "cell_type": "markdown",
   "id": "d8ef75a1",
   "metadata": {},
   "source": [
    "Результат можно проинтерпретировать следующим образом:\n",
    "    В первой группе респонденты употребляют леденцы только в качестве лечения. \n",
    "    Во второй группе основная цель употребления леденцов - очистить полость рта от неприятного вкуса или запаха\n",
    "    В третьей группе респонденты употребляют леденцы в качестве сладостей\n",
    "    В четвертой группе респонденты в основном употребляют леденцы чтобы сосредоточиться."
   ]
  },
  {
   "cell_type": "markdown",
   "id": "15ebbd82",
   "metadata": {},
   "source": [
    "#### Уменьшим размерность"
   ]
  },
  {
   "cell_type": "markdown",
   "id": "86790e8d",
   "metadata": {},
   "source": [
    "Нарисуем тепловую карту, чтобы лучше понимать как корелируют данные"
   ]
  },
  {
   "cell_type": "code",
   "execution_count": 549,
   "id": "49282314",
   "metadata": {},
   "outputs": [
    {
     "data": {
      "text/plain": [
       "<AxesSubplot:>"
      ]
     },
     "execution_count": 549,
     "metadata": {},
     "output_type": "execute_result"
    },
    {
     "data": {
      "image/png": "[encoded data removed]",
      "text/plain": [
       "<Figure size 800x550 with 2 Axes>"
      ]
     },
     "metadata": {},
     "output_type": "display_data"
    }
   ],
   "source": [
    "sns.heatmap(df.corr())"
   ]
  },
  {
   "cell_type": "code",
   "execution_count": 550,
   "id": "9f329aa5",
   "metadata": {},
   "outputs": [],
   "source": [
    "correlated_features = df1[['V1', 'V2', 'V3', 'V4']] #Линейное снижение размерности. Входные данные центрируются\n",
    "pca = PCA()\n",
    "principal_components = pca.fit_transform(correlated_features)\n",
    "df1['1234'] = principal_components[:, 0]"
   ]
  },
  {
   "cell_type": "code",
   "execution_count": 551,
   "id": "5b125853",
   "metadata": {},
   "outputs": [],
   "source": [
    "correlated_features = df1[['V5', 'V6']]\n",
    "pca = PCA()\n",
    "principal_components = pca.fit_transform(correlated_features)\n",
    "df1['56'] = principal_components[:, 0]"
   ]
  },
  {
   "cell_type": "code",
   "execution_count": 552,
   "id": "98c11008",
   "metadata": {},
   "outputs": [],
   "source": [
    "correlated_features = df1[['V7', 'V8']]\n",
    "pca = PCA()\n",
    "principal_components = pca.fit_transform(correlated_features)\n",
    "df1['78'] = principal_components[:, 0]"
   ]
  },
  {
   "cell_type": "code",
   "execution_count": 553,
   "id": "8d107ebc",
   "metadata": {},
   "outputs": [],
   "source": [
    "correlated_features = df1[['V9', 'V10', 'V11']]\n",
    "pca = PCA()\n",
    "principal_components = pca.fit_transform(correlated_features)\n",
    "df1['91011'] = principal_components[:, 0]"
   ]
  },
  {
   "cell_type": "code",
   "execution_count": 554,
   "id": "d91744bb",
   "metadata": {},
   "outputs": [
    {
     "data": {
      "text/html": [
       "<div>\n",
       "<style scoped>\n",
       "    .dataframe tbody tr th:only-of-type {\n",
       "        vertical-align: middle;\n",
       "    }\n",
       "\n",
       "    .dataframe tbody tr th {\n",
       "        vertical-align: top;\n",
       "    }\n",
       "\n",
       "    .dataframe thead th {\n",
       "        text-align: right;\n",
       "    }\n",
       "</style>\n",
       "<table border=\"1\" class=\"dataframe\">\n",
       "  <thead>\n",
       "    <tr style=\"text-align: right;\">\n",
       "      <th></th>\n",
       "      <th>V1</th>\n",
       "      <th>V2</th>\n",
       "      <th>V3</th>\n",
       "      <th>V4</th>\n",
       "      <th>V5</th>\n",
       "      <th>V6</th>\n",
       "      <th>V7</th>\n",
       "      <th>V8</th>\n",
       "      <th>V9</th>\n",
       "      <th>V10</th>\n",
       "      <th>V11</th>\n",
       "      <th>cluster</th>\n",
       "      <th>1234</th>\n",
       "      <th>56</th>\n",
       "      <th>78</th>\n",
       "      <th>91011</th>\n",
       "    </tr>\n",
       "  </thead>\n",
       "  <tbody>\n",
       "    <tr>\n",
       "      <th>0</th>\n",
       "      <td>4</td>\n",
       "      <td>5</td>\n",
       "      <td>5</td>\n",
       "      <td>5</td>\n",
       "      <td>3</td>\n",
       "      <td>3</td>\n",
       "      <td>3</td>\n",
       "      <td>3</td>\n",
       "      <td>3</td>\n",
       "      <td>3</td>\n",
       "      <td>3</td>\n",
       "      <td>2</td>\n",
       "      <td>2.521511</td>\n",
       "      <td>-0.290789</td>\n",
       "      <td>-0.384536</td>\n",
       "      <td>0.992899</td>\n",
       "    </tr>\n",
       "    <tr>\n",
       "      <th>1</th>\n",
       "      <td>5</td>\n",
       "      <td>4</td>\n",
       "      <td>5</td>\n",
       "      <td>5</td>\n",
       "      <td>3</td>\n",
       "      <td>3</td>\n",
       "      <td>3</td>\n",
       "      <td>3</td>\n",
       "      <td>3</td>\n",
       "      <td>3</td>\n",
       "      <td>3</td>\n",
       "      <td>2</td>\n",
       "      <td>2.502625</td>\n",
       "      <td>-0.290789</td>\n",
       "      <td>-0.384536</td>\n",
       "      <td>0.992899</td>\n",
       "    </tr>\n",
       "    <tr>\n",
       "      <th>2</th>\n",
       "      <td>5</td>\n",
       "      <td>5</td>\n",
       "      <td>4</td>\n",
       "      <td>5</td>\n",
       "      <td>3</td>\n",
       "      <td>3</td>\n",
       "      <td>3</td>\n",
       "      <td>3</td>\n",
       "      <td>3</td>\n",
       "      <td>3</td>\n",
       "      <td>3</td>\n",
       "      <td>2</td>\n",
       "      <td>2.482812</td>\n",
       "      <td>-0.290789</td>\n",
       "      <td>-0.384536</td>\n",
       "      <td>0.992899</td>\n",
       "    </tr>\n",
       "    <tr>\n",
       "      <th>3</th>\n",
       "      <td>5</td>\n",
       "      <td>4</td>\n",
       "      <td>5</td>\n",
       "      <td>5</td>\n",
       "      <td>3</td>\n",
       "      <td>3</td>\n",
       "      <td>3</td>\n",
       "      <td>3</td>\n",
       "      <td>3</td>\n",
       "      <td>3</td>\n",
       "      <td>3</td>\n",
       "      <td>2</td>\n",
       "      <td>2.502625</td>\n",
       "      <td>-0.290789</td>\n",
       "      <td>-0.384536</td>\n",
       "      <td>0.992899</td>\n",
       "    </tr>\n",
       "    <tr>\n",
       "      <th>4</th>\n",
       "      <td>4</td>\n",
       "      <td>5</td>\n",
       "      <td>5</td>\n",
       "      <td>5</td>\n",
       "      <td>3</td>\n",
       "      <td>3</td>\n",
       "      <td>3</td>\n",
       "      <td>3</td>\n",
       "      <td>3</td>\n",
       "      <td>3</td>\n",
       "      <td>3</td>\n",
       "      <td>2</td>\n",
       "      <td>2.521511</td>\n",
       "      <td>-0.290789</td>\n",
       "      <td>-0.384536</td>\n",
       "      <td>0.992899</td>\n",
       "    </tr>\n",
       "    <tr>\n",
       "      <th>...</th>\n",
       "      <td>...</td>\n",
       "      <td>...</td>\n",
       "      <td>...</td>\n",
       "      <td>...</td>\n",
       "      <td>...</td>\n",
       "      <td>...</td>\n",
       "      <td>...</td>\n",
       "      <td>...</td>\n",
       "      <td>...</td>\n",
       "      <td>...</td>\n",
       "      <td>...</td>\n",
       "      <td>...</td>\n",
       "      <td>...</td>\n",
       "      <td>...</td>\n",
       "      <td>...</td>\n",
       "      <td>...</td>\n",
       "    </tr>\n",
       "    <tr>\n",
       "      <th>333</th>\n",
       "      <td>3</td>\n",
       "      <td>3</td>\n",
       "      <td>3</td>\n",
       "      <td>3</td>\n",
       "      <td>3</td>\n",
       "      <td>3</td>\n",
       "      <td>5</td>\n",
       "      <td>5</td>\n",
       "      <td>3</td>\n",
       "      <td>3</td>\n",
       "      <td>3</td>\n",
       "      <td>3</td>\n",
       "      <td>-0.998352</td>\n",
       "      <td>-0.290789</td>\n",
       "      <td>2.443602</td>\n",
       "      <td>0.992899</td>\n",
       "    </tr>\n",
       "    <tr>\n",
       "      <th>334</th>\n",
       "      <td>3</td>\n",
       "      <td>3</td>\n",
       "      <td>3</td>\n",
       "      <td>3</td>\n",
       "      <td>3</td>\n",
       "      <td>3</td>\n",
       "      <td>5</td>\n",
       "      <td>5</td>\n",
       "      <td>3</td>\n",
       "      <td>3</td>\n",
       "      <td>3</td>\n",
       "      <td>3</td>\n",
       "      <td>-0.998352</td>\n",
       "      <td>-0.290789</td>\n",
       "      <td>2.443602</td>\n",
       "      <td>0.992899</td>\n",
       "    </tr>\n",
       "    <tr>\n",
       "      <th>335</th>\n",
       "      <td>3</td>\n",
       "      <td>3</td>\n",
       "      <td>3</td>\n",
       "      <td>3</td>\n",
       "      <td>3</td>\n",
       "      <td>3</td>\n",
       "      <td>5</td>\n",
       "      <td>5</td>\n",
       "      <td>3</td>\n",
       "      <td>3</td>\n",
       "      <td>3</td>\n",
       "      <td>3</td>\n",
       "      <td>-0.998352</td>\n",
       "      <td>-0.290789</td>\n",
       "      <td>2.443602</td>\n",
       "      <td>0.992899</td>\n",
       "    </tr>\n",
       "    <tr>\n",
       "      <th>336</th>\n",
       "      <td>3</td>\n",
       "      <td>3</td>\n",
       "      <td>3</td>\n",
       "      <td>3</td>\n",
       "      <td>3</td>\n",
       "      <td>3</td>\n",
       "      <td>5</td>\n",
       "      <td>5</td>\n",
       "      <td>3</td>\n",
       "      <td>3</td>\n",
       "      <td>3</td>\n",
       "      <td>3</td>\n",
       "      <td>-0.998352</td>\n",
       "      <td>-0.290789</td>\n",
       "      <td>2.443602</td>\n",
       "      <td>0.992899</td>\n",
       "    </tr>\n",
       "    <tr>\n",
       "      <th>337</th>\n",
       "      <td>3</td>\n",
       "      <td>3</td>\n",
       "      <td>3</td>\n",
       "      <td>3</td>\n",
       "      <td>3</td>\n",
       "      <td>3</td>\n",
       "      <td>5</td>\n",
       "      <td>5</td>\n",
       "      <td>3</td>\n",
       "      <td>3</td>\n",
       "      <td>3</td>\n",
       "      <td>3</td>\n",
       "      <td>-0.998352</td>\n",
       "      <td>-0.290789</td>\n",
       "      <td>2.443602</td>\n",
       "      <td>0.992899</td>\n",
       "    </tr>\n",
       "  </tbody>\n",
       "</table>\n",
       "<p>338 rows × 16 columns</p>\n",
       "</div>"
      ],
      "text/plain": [
       "     V1  V2  V3  V4  V5  V6  V7  V8  V9  V10  V11  cluster      1234  \\\n",
       "0     4   5   5   5   3   3   3   3   3    3    3        2  2.521511   \n",
       "1     5   4   5   5   3   3   3   3   3    3    3        2  2.502625   \n",
       "2     5   5   4   5   3   3   3   3   3    3    3        2  2.482812   \n",
       "3     5   4   5   5   3   3   3   3   3    3    3        2  2.502625   \n",
       "4     4   5   5   5   3   3   3   3   3    3    3        2  2.521511   \n",
       "..   ..  ..  ..  ..  ..  ..  ..  ..  ..  ...  ...      ...       ...   \n",
       "333   3   3   3   3   3   3   5   5   3    3    3        3 -0.998352   \n",
       "334   3   3   3   3   3   3   5   5   3    3    3        3 -0.998352   \n",
       "335   3   3   3   3   3   3   5   5   3    3    3        3 -0.998352   \n",
       "336   3   3   3   3   3   3   5   5   3    3    3        3 -0.998352   \n",
       "337   3   3   3   3   3   3   5   5   3    3    3        3 -0.998352   \n",
       "\n",
       "           56        78     91011  \n",
       "0   -0.290789 -0.384536  0.992899  \n",
       "1   -0.290789 -0.384536  0.992899  \n",
       "2   -0.290789 -0.384536  0.992899  \n",
       "3   -0.290789 -0.384536  0.992899  \n",
       "4   -0.290789 -0.384536  0.992899  \n",
       "..        ...       ...       ...  \n",
       "333 -0.290789  2.443602  0.992899  \n",
       "334 -0.290789  2.443602  0.992899  \n",
       "335 -0.290789  2.443602  0.992899  \n",
       "336 -0.290789  2.443602  0.992899  \n",
       "337 -0.290789  2.443602  0.992899  \n",
       "\n",
       "[338 rows x 16 columns]"
      ]
     },
     "execution_count": 554,
     "metadata": {},
     "output_type": "execute_result"
    }
   ],
   "source": [
    "df"
   ]
  },
  {
   "cell_type": "code",
   "execution_count": 555,
   "id": "0a901fc0",
   "metadata": {},
   "outputs": [
    {
     "data": {
      "image/png": "[encoded data removed]",
      "text/plain": [
       "<Figure size 800x550 with 1 Axes>"
      ]
     },
     "metadata": {},
     "output_type": "display_data"
    }
   ],
   "source": [
    "from scipy.cluster.hierarchy import dendrogram, linkage, fcluster\n",
    "\n",
    "\n",
    "link = linkage(df1[['1234', '56', '78', '91011']], \"ward\", \"euclidean\")\n",
    "dn = dendrogram(link, orientation = \"right\")"
   ]
  },
  {
   "cell_type": "code",
   "execution_count": 556,
   "id": "3df9d094",
   "metadata": {},
   "outputs": [],
   "source": [
    "df1[\"cluster\"] = fcluster(link, 4, criterion='maxclust')"
   ]
  },
  {
   "cell_type": "code",
   "execution_count": 557,
   "id": "a7a19ab4",
   "metadata": {},
   "outputs": [
    {
     "data": {
      "text/html": [
       "<div>\n",
       "<style scoped>\n",
       "    .dataframe tbody tr th:only-of-type {\n",
       "        vertical-align: middle;\n",
       "    }\n",
       "\n",
       "    .dataframe tbody tr th {\n",
       "        vertical-align: top;\n",
       "    }\n",
       "\n",
       "    .dataframe thead th {\n",
       "        text-align: right;\n",
       "    }\n",
       "</style>\n",
       "<table border=\"1\" class=\"dataframe\">\n",
       "  <thead>\n",
       "    <tr style=\"text-align: right;\">\n",
       "      <th></th>\n",
       "      <th>V1</th>\n",
       "      <th>V2</th>\n",
       "      <th>V3</th>\n",
       "      <th>V4</th>\n",
       "      <th>V5</th>\n",
       "      <th>V6</th>\n",
       "      <th>V7</th>\n",
       "      <th>V8</th>\n",
       "      <th>V9</th>\n",
       "      <th>V10</th>\n",
       "      <th>V11</th>\n",
       "    </tr>\n",
       "    <tr>\n",
       "      <th>cluster</th>\n",
       "      <th></th>\n",
       "      <th></th>\n",
       "      <th></th>\n",
       "      <th></th>\n",
       "      <th></th>\n",
       "      <th></th>\n",
       "      <th></th>\n",
       "      <th></th>\n",
       "      <th></th>\n",
       "      <th></th>\n",
       "      <th></th>\n",
       "    </tr>\n",
       "  </thead>\n",
       "  <tbody>\n",
       "    <tr>\n",
       "      <th>1</th>\n",
       "      <td>2.8</td>\n",
       "      <td>2.8</td>\n",
       "      <td>2.8</td>\n",
       "      <td>2.6</td>\n",
       "      <td>2.6</td>\n",
       "      <td>2.6</td>\n",
       "      <td>2.8</td>\n",
       "      <td>2.9</td>\n",
       "      <td>5.0</td>\n",
       "      <td>4.8</td>\n",
       "      <td>4.9</td>\n",
       "    </tr>\n",
       "    <tr>\n",
       "      <th>2</th>\n",
       "      <td>4.8</td>\n",
       "      <td>4.8</td>\n",
       "      <td>4.8</td>\n",
       "      <td>4.7</td>\n",
       "      <td>3.0</td>\n",
       "      <td>3.0</td>\n",
       "      <td>3.0</td>\n",
       "      <td>3.0</td>\n",
       "      <td>3.1</td>\n",
       "      <td>3.0</td>\n",
       "      <td>3.0</td>\n",
       "    </tr>\n",
       "    <tr>\n",
       "      <th>3</th>\n",
       "      <td>3.0</td>\n",
       "      <td>3.0</td>\n",
       "      <td>3.0</td>\n",
       "      <td>2.9</td>\n",
       "      <td>2.9</td>\n",
       "      <td>2.9</td>\n",
       "      <td>4.9</td>\n",
       "      <td>4.9</td>\n",
       "      <td>3.0</td>\n",
       "      <td>3.0</td>\n",
       "      <td>3.0</td>\n",
       "    </tr>\n",
       "    <tr>\n",
       "      <th>4</th>\n",
       "      <td>3.0</td>\n",
       "      <td>3.0</td>\n",
       "      <td>3.0</td>\n",
       "      <td>3.0</td>\n",
       "      <td>4.9</td>\n",
       "      <td>4.9</td>\n",
       "      <td>3.0</td>\n",
       "      <td>2.9</td>\n",
       "      <td>2.8</td>\n",
       "      <td>2.8</td>\n",
       "      <td>2.8</td>\n",
       "    </tr>\n",
       "  </tbody>\n",
       "</table>\n",
       "</div>"
      ],
      "text/plain": [
       "          V1   V2   V3   V4   V5   V6   V7   V8   V9  V10  V11\n",
       "cluster                                                       \n",
       "1        2.8  2.8  2.8  2.6  2.6  2.6  2.8  2.9  5.0  4.8  4.9\n",
       "2        4.8  4.8  4.8  4.7  3.0  3.0  3.0  3.0  3.1  3.0  3.0\n",
       "3        3.0  3.0  3.0  2.9  2.9  2.9  4.9  4.9  3.0  3.0  3.0\n",
       "4        3.0  3.0  3.0  3.0  4.9  4.9  3.0  2.9  2.8  2.8  2.8"
      ]
     },
     "execution_count": 557,
     "metadata": {},
     "output_type": "execute_result"
    }
   ],
   "source": [
    "round(df1[['V1', 'V2', 'V3', 'V4', 'V5', 'V6', 'V7', 'V8', 'V9', 'V10', 'V11', 'cluster']].groupby(\"cluster\").mean(), 1)"
   ]
  },
  {
   "cell_type": "markdown",
   "id": "07651da0",
   "metadata": {},
   "source": [
    "Видим, что результат совпадает с раннее увиденным."
   ]
  },
  {
   "cell_type": "markdown",
   "id": "f54bc4ac",
   "metadata": {},
   "source": [
    "### Кластерный анализ методом к-средних (k-means)"
   ]
  },
  {
   "cell_type": "code",
   "execution_count": 558,
   "id": "329db2be",
   "metadata": {},
   "outputs": [],
   "source": [
    "df2 = pd.read_csv('Леденцы.dat', sep=\";\", header = 0, index_col=False)"
   ]
  },
  {
   "cell_type": "code",
   "execution_count": 559,
   "id": "76605ea7",
   "metadata": {},
   "outputs": [],
   "source": [
    "from sklearn.cluster import KMeans"
   ]
  },
  {
   "cell_type": "markdown",
   "id": "0984895a",
   "metadata": {},
   "source": [
    "Посмотрим какое количество кластеров лучше"
   ]
  },
  {
   "cell_type": "code",
   "execution_count": 560,
   "id": "800a0c9e",
   "metadata": {},
   "outputs": [
    {
     "data": {
      "image/png": "[encoded data removed]",
      "text/plain": [
       "<Figure size 800x550 with 1 Axes>"
      ]
     },
     "metadata": {},
     "output_type": "display_data"
    }
   ],
   "source": [
    "sse = []\n",
    "for k in range(1, 11):\n",
    "    kmeans = KMeans(n_clusters=k)\n",
    "    kmeans.fit(df2)\n",
    "    sse.append(kmeans.inertia_)\n",
    "\n",
    "plt.plot(range(1, 11), sse, marker='o')\n",
    "plt.title('Метод \"Локтя\"')\n",
    "plt.xlabel('Количество кластеров')\n",
    "plt.ylabel('Сумма квадратов расстояний')\n",
    "plt.show()"
   ]
  },
  {
   "cell_type": "markdown",
   "id": "031b3f1d",
   "metadata": {},
   "source": [
    "Видно, что оптимальная точка - 4"
   ]
  },
  {
   "cell_type": "code",
   "execution_count": 561,
   "id": "0e1d492e",
   "metadata": {},
   "outputs": [
    {
     "data": {
      "text/html": [
       "<div>\n",
       "<style scoped>\n",
       "    .dataframe tbody tr th:only-of-type {\n",
       "        vertical-align: middle;\n",
       "    }\n",
       "\n",
       "    .dataframe tbody tr th {\n",
       "        vertical-align: top;\n",
       "    }\n",
       "\n",
       "    .dataframe thead th {\n",
       "        text-align: right;\n",
       "    }\n",
       "</style>\n",
       "<table border=\"1\" class=\"dataframe\">\n",
       "  <thead>\n",
       "    <tr style=\"text-align: right;\">\n",
       "      <th></th>\n",
       "      <th>V1</th>\n",
       "      <th>V2</th>\n",
       "      <th>V3</th>\n",
       "      <th>V4</th>\n",
       "      <th>V5</th>\n",
       "      <th>V6</th>\n",
       "      <th>V7</th>\n",
       "      <th>V8</th>\n",
       "      <th>V9</th>\n",
       "      <th>V10</th>\n",
       "      <th>V11</th>\n",
       "      <th>Kmean</th>\n",
       "    </tr>\n",
       "  </thead>\n",
       "  <tbody>\n",
       "    <tr>\n",
       "      <th>0</th>\n",
       "      <td>4</td>\n",
       "      <td>5</td>\n",
       "      <td>5</td>\n",
       "      <td>5</td>\n",
       "      <td>3</td>\n",
       "      <td>3</td>\n",
       "      <td>3</td>\n",
       "      <td>3</td>\n",
       "      <td>3</td>\n",
       "      <td>3</td>\n",
       "      <td>3</td>\n",
       "      <td>2</td>\n",
       "    </tr>\n",
       "    <tr>\n",
       "      <th>1</th>\n",
       "      <td>5</td>\n",
       "      <td>4</td>\n",
       "      <td>5</td>\n",
       "      <td>5</td>\n",
       "      <td>3</td>\n",
       "      <td>3</td>\n",
       "      <td>3</td>\n",
       "      <td>3</td>\n",
       "      <td>3</td>\n",
       "      <td>3</td>\n",
       "      <td>3</td>\n",
       "      <td>2</td>\n",
       "    </tr>\n",
       "    <tr>\n",
       "      <th>2</th>\n",
       "      <td>5</td>\n",
       "      <td>5</td>\n",
       "      <td>4</td>\n",
       "      <td>5</td>\n",
       "      <td>3</td>\n",
       "      <td>3</td>\n",
       "      <td>3</td>\n",
       "      <td>3</td>\n",
       "      <td>3</td>\n",
       "      <td>3</td>\n",
       "      <td>3</td>\n",
       "      <td>2</td>\n",
       "    </tr>\n",
       "    <tr>\n",
       "      <th>3</th>\n",
       "      <td>5</td>\n",
       "      <td>4</td>\n",
       "      <td>5</td>\n",
       "      <td>5</td>\n",
       "      <td>3</td>\n",
       "      <td>3</td>\n",
       "      <td>3</td>\n",
       "      <td>3</td>\n",
       "      <td>3</td>\n",
       "      <td>3</td>\n",
       "      <td>3</td>\n",
       "      <td>2</td>\n",
       "    </tr>\n",
       "    <tr>\n",
       "      <th>4</th>\n",
       "      <td>4</td>\n",
       "      <td>5</td>\n",
       "      <td>5</td>\n",
       "      <td>5</td>\n",
       "      <td>3</td>\n",
       "      <td>3</td>\n",
       "      <td>3</td>\n",
       "      <td>3</td>\n",
       "      <td>3</td>\n",
       "      <td>3</td>\n",
       "      <td>3</td>\n",
       "      <td>2</td>\n",
       "    </tr>\n",
       "    <tr>\n",
       "      <th>...</th>\n",
       "      <td>...</td>\n",
       "      <td>...</td>\n",
       "      <td>...</td>\n",
       "      <td>...</td>\n",
       "      <td>...</td>\n",
       "      <td>...</td>\n",
       "      <td>...</td>\n",
       "      <td>...</td>\n",
       "      <td>...</td>\n",
       "      <td>...</td>\n",
       "      <td>...</td>\n",
       "      <td>...</td>\n",
       "    </tr>\n",
       "    <tr>\n",
       "      <th>333</th>\n",
       "      <td>3</td>\n",
       "      <td>3</td>\n",
       "      <td>3</td>\n",
       "      <td>3</td>\n",
       "      <td>3</td>\n",
       "      <td>3</td>\n",
       "      <td>5</td>\n",
       "      <td>5</td>\n",
       "      <td>3</td>\n",
       "      <td>3</td>\n",
       "      <td>3</td>\n",
       "      <td>3</td>\n",
       "    </tr>\n",
       "    <tr>\n",
       "      <th>334</th>\n",
       "      <td>3</td>\n",
       "      <td>3</td>\n",
       "      <td>3</td>\n",
       "      <td>3</td>\n",
       "      <td>3</td>\n",
       "      <td>3</td>\n",
       "      <td>5</td>\n",
       "      <td>5</td>\n",
       "      <td>3</td>\n",
       "      <td>3</td>\n",
       "      <td>3</td>\n",
       "      <td>3</td>\n",
       "    </tr>\n",
       "    <tr>\n",
       "      <th>335</th>\n",
       "      <td>3</td>\n",
       "      <td>3</td>\n",
       "      <td>3</td>\n",
       "      <td>3</td>\n",
       "      <td>3</td>\n",
       "      <td>3</td>\n",
       "      <td>5</td>\n",
       "      <td>5</td>\n",
       "      <td>3</td>\n",
       "      <td>3</td>\n",
       "      <td>3</td>\n",
       "      <td>3</td>\n",
       "    </tr>\n",
       "    <tr>\n",
       "      <th>336</th>\n",
       "      <td>3</td>\n",
       "      <td>3</td>\n",
       "      <td>3</td>\n",
       "      <td>3</td>\n",
       "      <td>3</td>\n",
       "      <td>3</td>\n",
       "      <td>5</td>\n",
       "      <td>5</td>\n",
       "      <td>3</td>\n",
       "      <td>3</td>\n",
       "      <td>3</td>\n",
       "      <td>3</td>\n",
       "    </tr>\n",
       "    <tr>\n",
       "      <th>337</th>\n",
       "      <td>3</td>\n",
       "      <td>3</td>\n",
       "      <td>3</td>\n",
       "      <td>3</td>\n",
       "      <td>3</td>\n",
       "      <td>3</td>\n",
       "      <td>5</td>\n",
       "      <td>5</td>\n",
       "      <td>3</td>\n",
       "      <td>3</td>\n",
       "      <td>3</td>\n",
       "      <td>3</td>\n",
       "    </tr>\n",
       "  </tbody>\n",
       "</table>\n",
       "<p>338 rows × 12 columns</p>\n",
       "</div>"
      ],
      "text/plain": [
       "     V1  V2  V3  V4  V5  V6  V7  V8  V9  V10  V11  Kmean\n",
       "0     4   5   5   5   3   3   3   3   3    3    3      2\n",
       "1     5   4   5   5   3   3   3   3   3    3    3      2\n",
       "2     5   5   4   5   3   3   3   3   3    3    3      2\n",
       "3     5   4   5   5   3   3   3   3   3    3    3      2\n",
       "4     4   5   5   5   3   3   3   3   3    3    3      2\n",
       "..   ..  ..  ..  ..  ..  ..  ..  ..  ..  ...  ...    ...\n",
       "333   3   3   3   3   3   3   5   5   3    3    3      3\n",
       "334   3   3   3   3   3   3   5   5   3    3    3      3\n",
       "335   3   3   3   3   3   3   5   5   3    3    3      3\n",
       "336   3   3   3   3   3   3   5   5   3    3    3      3\n",
       "337   3   3   3   3   3   3   5   5   3    3    3      3\n",
       "\n",
       "[338 rows x 12 columns]"
      ]
     },
     "execution_count": 561,
     "metadata": {},
     "output_type": "execute_result"
    }
   ],
   "source": [
    "model = KMeans(n_clusters=4)\n",
    "transformed = model.fit(df2)\n",
    "df2['Kmean'] = model.labels_\n",
    "df2"
   ]
  },
  {
   "cell_type": "code",
   "execution_count": 562,
   "id": "a7bc10d5",
   "metadata": {},
   "outputs": [
    {
     "data": {
      "text/html": [
       "<div>\n",
       "<style scoped>\n",
       "    .dataframe tbody tr th:only-of-type {\n",
       "        vertical-align: middle;\n",
       "    }\n",
       "\n",
       "    .dataframe tbody tr th {\n",
       "        vertical-align: top;\n",
       "    }\n",
       "\n",
       "    .dataframe thead th {\n",
       "        text-align: right;\n",
       "    }\n",
       "</style>\n",
       "<table border=\"1\" class=\"dataframe\">\n",
       "  <thead>\n",
       "    <tr style=\"text-align: right;\">\n",
       "      <th></th>\n",
       "      <th>V1</th>\n",
       "      <th>V2</th>\n",
       "      <th>V3</th>\n",
       "      <th>V4</th>\n",
       "      <th>V5</th>\n",
       "      <th>V6</th>\n",
       "      <th>V7</th>\n",
       "      <th>V8</th>\n",
       "      <th>V9</th>\n",
       "      <th>V10</th>\n",
       "      <th>V11</th>\n",
       "    </tr>\n",
       "    <tr>\n",
       "      <th>Kmean</th>\n",
       "      <th></th>\n",
       "      <th></th>\n",
       "      <th></th>\n",
       "      <th></th>\n",
       "      <th></th>\n",
       "      <th></th>\n",
       "      <th></th>\n",
       "      <th></th>\n",
       "      <th></th>\n",
       "      <th></th>\n",
       "      <th></th>\n",
       "    </tr>\n",
       "  </thead>\n",
       "  <tbody>\n",
       "    <tr>\n",
       "      <th>0</th>\n",
       "      <td>2.8</td>\n",
       "      <td>2.8</td>\n",
       "      <td>2.8</td>\n",
       "      <td>2.6</td>\n",
       "      <td>2.6</td>\n",
       "      <td>2.6</td>\n",
       "      <td>2.8</td>\n",
       "      <td>2.9</td>\n",
       "      <td>5.0</td>\n",
       "      <td>4.8</td>\n",
       "      <td>4.9</td>\n",
       "    </tr>\n",
       "    <tr>\n",
       "      <th>1</th>\n",
       "      <td>3.0</td>\n",
       "      <td>3.0</td>\n",
       "      <td>3.0</td>\n",
       "      <td>3.0</td>\n",
       "      <td>4.9</td>\n",
       "      <td>4.9</td>\n",
       "      <td>3.0</td>\n",
       "      <td>2.9</td>\n",
       "      <td>2.8</td>\n",
       "      <td>2.8</td>\n",
       "      <td>2.8</td>\n",
       "    </tr>\n",
       "    <tr>\n",
       "      <th>2</th>\n",
       "      <td>4.8</td>\n",
       "      <td>4.8</td>\n",
       "      <td>4.8</td>\n",
       "      <td>4.7</td>\n",
       "      <td>3.0</td>\n",
       "      <td>3.0</td>\n",
       "      <td>3.0</td>\n",
       "      <td>3.0</td>\n",
       "      <td>3.1</td>\n",
       "      <td>3.0</td>\n",
       "      <td>3.0</td>\n",
       "    </tr>\n",
       "    <tr>\n",
       "      <th>3</th>\n",
       "      <td>3.0</td>\n",
       "      <td>3.0</td>\n",
       "      <td>3.0</td>\n",
       "      <td>2.9</td>\n",
       "      <td>2.9</td>\n",
       "      <td>2.9</td>\n",
       "      <td>4.9</td>\n",
       "      <td>4.9</td>\n",
       "      <td>3.0</td>\n",
       "      <td>3.0</td>\n",
       "      <td>3.0</td>\n",
       "    </tr>\n",
       "  </tbody>\n",
       "</table>\n",
       "</div>"
      ],
      "text/plain": [
       "        V1   V2   V3   V4   V5   V6   V7   V8   V9  V10  V11\n",
       "Kmean                                                       \n",
       "0      2.8  2.8  2.8  2.6  2.6  2.6  2.8  2.9  5.0  4.8  4.9\n",
       "1      3.0  3.0  3.0  3.0  4.9  4.9  3.0  2.9  2.8  2.8  2.8\n",
       "2      4.8  4.8  4.8  4.7  3.0  3.0  3.0  3.0  3.1  3.0  3.0\n",
       "3      3.0  3.0  3.0  2.9  2.9  2.9  4.9  4.9  3.0  3.0  3.0"
      ]
     },
     "execution_count": 562,
     "metadata": {},
     "output_type": "execute_result"
    }
   ],
   "source": [
    "round(df2.groupby('Kmean').mean(), 1)"
   ]
  },
  {
   "cell_type": "code",
   "execution_count": 563,
   "id": "f80cefed",
   "metadata": {},
   "outputs": [
    {
     "data": {
      "text/plain": [
       "Kmean\n",
       "0    108\n",
       "1     61\n",
       "2    110\n",
       "3     59\n",
       "dtype: int64"
      ]
     },
     "execution_count": 563,
     "metadata": {},
     "output_type": "execute_result"
    }
   ],
   "source": [
    "df2.groupby('Kmean').size()"
   ]
  },
  {
   "cell_type": "markdown",
   "id": "fc487d24",
   "metadata": {},
   "source": [
    "Вывод: получили тот же результат, что и выше"
   ]
  },
  {
   "cell_type": "markdown",
   "id": "15d70d25",
   "metadata": {},
   "source": [
    "### Кластерный анализ методом DBSCAN"
   ]
  },
  {
   "cell_type": "code",
   "execution_count": 564,
   "id": "d5902d08",
   "metadata": {},
   "outputs": [],
   "source": [
    "#импортируем необходимые библиотеки\n",
    "from sklearn.cluster import DBSCAN \n",
    "from sklearn.preprocessing import StandardScaler \n",
    "from sklearn.preprocessing import normalize \n",
    "from sklearn.decomposition import PCA "
   ]
  },
  {
   "cell_type": "code",
   "execution_count": 565,
   "id": "f5e03825",
   "metadata": {},
   "outputs": [],
   "source": [
    "M = pd.read_csv('Леденцы.dat', sep=\";\", header = 0, index_col=False)"
   ]
  },
  {
   "cell_type": "markdown",
   "id": "c81f6659",
   "metadata": {},
   "source": [
    "Обработаем предварительно данные"
   ]
  },
  {
   "cell_type": "code",
   "execution_count": 566,
   "id": "5060d37c",
   "metadata": {},
   "outputs": [],
   "source": [
    "scalerFD = StandardScaler() #Стандартизирует признаки, вычитая среднее значение и масштабируя дисперсию до единицы.\n",
    "M_scaled = scalerFD.fit_transform(M) \n",
    "M_normalized = normalize(M_scaled) # Чтобы убедиться, что данные будут соответствовать распределению гаусса,нормализуем\n",
    "M_normalized = pd.DataFrame(M_normalized) "
   ]
  },
  {
   "cell_type": "code",
   "execution_count": 567,
   "id": "09c828a7",
   "metadata": {},
   "outputs": [
    {
     "name": "stdout",
     "output_type": "stream",
     "text": [
      "         C1        C2\n",
      "0 -0.844884 -0.356503\n",
      "1 -0.850846 -0.353719\n",
      "2 -0.847564 -0.357714\n",
      "3 -0.850846 -0.353719\n",
      "4 -0.844884 -0.356503\n"
     ]
    },
    {
     "data": {
      "text/plain": [
       "338"
      ]
     },
     "execution_count": 567,
     "metadata": {},
     "output_type": "execute_result"
    }
   ],
   "source": [
    "pcaFD = PCA(n_components = 2) #уменьшим масштаб с помощью метода главных компонент\n",
    "M_principal = pcaFD.fit_transform(M_normalized)  \n",
    "M_principal = pd.DataFrame(M_principal) \n",
    "M_principal.columns = ['C1', 'C2'] \n",
    "print(M_principal.head()) \n",
    "len(M_principal)"
   ]
  },
  {
   "cell_type": "code",
   "execution_count": 568,
   "id": "df07d8f5",
   "metadata": {},
   "outputs": [],
   "source": [
    "db_default = DBSCAN(eps = 0.4, min_samples = 40, metric='euclidean').fit(M_principal) \n",
    "labeling = db_default.labels_"
   ]
  },
  {
   "cell_type": "code",
   "execution_count": 569,
   "id": "c60dd051",
   "metadata": {},
   "outputs": [
    {
     "name": "stdout",
     "output_type": "stream",
     "text": [
      "0 2\n"
     ]
    }
   ],
   "source": [
    "print(min(labeling), max(labeling))"
   ]
  },
  {
   "cell_type": "code",
   "execution_count": 570,
   "id": "24391686",
   "metadata": {},
   "outputs": [
    {
     "data": {
      "image/png": "[encoded data removed]",
      "text/plain": [
       "<Figure size 800x550 with 1 Axes>"
      ]
     },
     "metadata": {},
     "output_type": "display_data"
    },
    {
     "data": {
      "image/png": "[encoded data removed]",
      "text/plain": [
       "<Figure size 900x900 with 1 Axes>"
      ]
     },
     "metadata": {},
     "output_type": "display_data"
    }
   ],
   "source": [
    "# Visualization of clustering model by giving different colours \n",
    "colours = {} \n",
    "# First colour in visualization is green \n",
    "colours[0] = 'g' \n",
    "# Second colour in visualization is black \n",
    "colours[1] = 'k' \n",
    "# Third colour in visualization is red \n",
    "colours[2] = 'r' \n",
    "# Last colour in visualization is blue \n",
    "colours[-1] = 'b' \n",
    "# Creating a colour vector for each data point in the dataset cluster \n",
    "cvec = [colours[label] for label in labeling] \n",
    "# Construction of the legend \n",
    "# Scattering of green colour \n",
    "g = plt.scatter(M_principal['C1'], M_principal['C2'], color ='g'); \n",
    "# Scattering of black colour \n",
    "k = plt.scatter(M_principal['C1'], M_principal['C2'], color ='k'); \n",
    "# Scattering of red colour \n",
    "r = plt.scatter(M_principal['C1'], M_principal['C2'], color ='r'); \n",
    "# Scattering of green colour \n",
    "b = plt.scatter(M_principal['C1'], M_principal['C2'], color ='b');  \n",
    "# Plotting C1 column on the X-Axis and C2 on the Y-Axis \n",
    "# Fitting the size of the figure with figure function \n",
    "plt.figure(figsize =(9, 9)) \n",
    "# Scattering the data points in the Visualization graph \n",
    "plt.scatter(M_principal['C1'], M_principal['C2'], c = cvec) \n",
    "# Building the legend with the coloured data points and labelled \n",
    "plt.legend((g, k, r, b),('Label M.0', 'Label M.1', 'Label M.2', 'Label M.-1')) \n",
    "# Showing Visualization in the output \n",
    "plt.show() "
   ]
  },
  {
   "cell_type": "code",
   "execution_count": 571,
   "id": "298c4b51",
   "metadata": {},
   "outputs": [],
   "source": [
    "M['DBSCAN_gr'] = labeling"
   ]
  },
  {
   "cell_type": "code",
   "execution_count": 572,
   "id": "c33a4d03",
   "metadata": {},
   "outputs": [
    {
     "data": {
      "text/html": [
       "<div>\n",
       "<style scoped>\n",
       "    .dataframe tbody tr th:only-of-type {\n",
       "        vertical-align: middle;\n",
       "    }\n",
       "\n",
       "    .dataframe tbody tr th {\n",
       "        vertical-align: top;\n",
       "    }\n",
       "\n",
       "    .dataframe thead th {\n",
       "        text-align: right;\n",
       "    }\n",
       "</style>\n",
       "<table border=\"1\" class=\"dataframe\">\n",
       "  <thead>\n",
       "    <tr style=\"text-align: right;\">\n",
       "      <th></th>\n",
       "      <th>V1</th>\n",
       "      <th>V2</th>\n",
       "      <th>V3</th>\n",
       "      <th>V4</th>\n",
       "      <th>V5</th>\n",
       "      <th>V6</th>\n",
       "      <th>V7</th>\n",
       "      <th>V8</th>\n",
       "      <th>V9</th>\n",
       "      <th>V10</th>\n",
       "      <th>V11</th>\n",
       "    </tr>\n",
       "    <tr>\n",
       "      <th>DBSCAN_gr</th>\n",
       "      <th></th>\n",
       "      <th></th>\n",
       "      <th></th>\n",
       "      <th></th>\n",
       "      <th></th>\n",
       "      <th></th>\n",
       "      <th></th>\n",
       "      <th></th>\n",
       "      <th></th>\n",
       "      <th></th>\n",
       "      <th></th>\n",
       "    </tr>\n",
       "  </thead>\n",
       "  <tbody>\n",
       "    <tr>\n",
       "      <th>0</th>\n",
       "      <td>4.8</td>\n",
       "      <td>4.8</td>\n",
       "      <td>4.8</td>\n",
       "      <td>4.7</td>\n",
       "      <td>3.0</td>\n",
       "      <td>3.0</td>\n",
       "      <td>3.0</td>\n",
       "      <td>3.0</td>\n",
       "      <td>3.1</td>\n",
       "      <td>3.0</td>\n",
       "      <td>3.0</td>\n",
       "    </tr>\n",
       "    <tr>\n",
       "      <th>1</th>\n",
       "      <td>2.8</td>\n",
       "      <td>2.8</td>\n",
       "      <td>2.8</td>\n",
       "      <td>2.6</td>\n",
       "      <td>2.6</td>\n",
       "      <td>2.6</td>\n",
       "      <td>2.8</td>\n",
       "      <td>2.9</td>\n",
       "      <td>5.0</td>\n",
       "      <td>4.8</td>\n",
       "      <td>4.9</td>\n",
       "    </tr>\n",
       "    <tr>\n",
       "      <th>2</th>\n",
       "      <td>3.0</td>\n",
       "      <td>3.0</td>\n",
       "      <td>3.0</td>\n",
       "      <td>3.0</td>\n",
       "      <td>3.9</td>\n",
       "      <td>3.9</td>\n",
       "      <td>3.9</td>\n",
       "      <td>3.9</td>\n",
       "      <td>2.9</td>\n",
       "      <td>2.9</td>\n",
       "      <td>2.9</td>\n",
       "    </tr>\n",
       "  </tbody>\n",
       "</table>\n",
       "</div>"
      ],
      "text/plain": [
       "            V1   V2   V3   V4   V5   V6   V7   V8   V9  V10  V11\n",
       "DBSCAN_gr                                                       \n",
       "0          4.8  4.8  4.8  4.7  3.0  3.0  3.0  3.0  3.1  3.0  3.0\n",
       "1          2.8  2.8  2.8  2.6  2.6  2.6  2.8  2.9  5.0  4.8  4.9\n",
       "2          3.0  3.0  3.0  3.0  3.9  3.9  3.9  3.9  2.9  2.9  2.9"
      ]
     },
     "execution_count": 572,
     "metadata": {},
     "output_type": "execute_result"
    }
   ],
   "source": [
    "round(M.groupby(\"DBSCAN_gr\").mean(), 1)\n",
    "#round(M.groupby(\"DBSCAN_gr\").min(), 1)"
   ]
  },
  {
   "cell_type": "markdown",
   "id": "2e20667b",
   "metadata": {},
   "source": [
    "Рассмотрим другое количество кластеров"
   ]
  },
  {
   "cell_type": "code",
   "execution_count": 573,
   "id": "449d1be0",
   "metadata": {},
   "outputs": [
    {
     "name": "stdout",
     "output_type": "stream",
     "text": [
      "-1 2\n"
     ]
    }
   ],
   "source": [
    "db_default = DBSCAN(eps = 0.2, min_samples = 40, metric='euclidean').fit(M_principal) \n",
    "labeling = db_default.labels_\n",
    "print(min(labeling), max(labeling))"
   ]
  },
  {
   "cell_type": "code",
   "execution_count": 574,
   "id": "5b91b9b4",
   "metadata": {},
   "outputs": [
    {
     "data": {
      "image/png": "[encoded data removed]",
      "text/plain": [
       "<Figure size 800x550 with 1 Axes>"
      ]
     },
     "metadata": {},
     "output_type": "display_data"
    },
    {
     "data": {
      "image/png": "[encoded data removed]",
      "text/plain": [
       "<Figure size 900x900 with 1 Axes>"
      ]
     },
     "metadata": {},
     "output_type": "display_data"
    }
   ],
   "source": [
    "# Visualization of clustering model by giving different colours \n",
    "colours = {} \n",
    "# First colour in visualization is green \n",
    "colours[0] = 'g' \n",
    "# Second colour in visualization is black \n",
    "colours[1] = 'k' \n",
    "# Third colour in visualization is red \n",
    "colours[2] = 'r' \n",
    "# Last colour in visualization is blue \n",
    "colours[-1] = 'b' \n",
    "# Creating a colour vector for each data point in the dataset cluster \n",
    "cvec = [colours[label] for label in labeling] \n",
    "# Construction of the legend \n",
    "# Scattering of green colour \n",
    "g = plt.scatter(M_principal['C1'], M_principal['C2'], color ='g'); \n",
    "# Scattering of black colour \n",
    "k = plt.scatter(M_principal['C1'], M_principal['C2'], color ='k'); \n",
    "# Scattering of red colour \n",
    "r = plt.scatter(M_principal['C1'], M_principal['C2'], color ='r'); \n",
    "# Scattering of green colour \n",
    "b = plt.scatter(M_principal['C1'], M_principal['C2'], color ='b');  \n",
    "# Plotting C1 column on the X-Axis and C2 on the Y-Axis \n",
    "# Fitting the size of the figure with figure function \n",
    "plt.figure(figsize =(9, 9)) \n",
    "# Scattering the data points in the Visualization graph \n",
    "plt.scatter(M_principal['C1'], M_principal['C2'], c = cvec) \n",
    "# Building the legend with the coloured data points and labelled \n",
    "plt.legend((g, k, r, b),('Label M.0', 'Label M.1', 'Label M.2', 'Label M.-1')) \n",
    "# Showing Visualization in the output \n",
    "plt.show() "
   ]
  },
  {
   "cell_type": "code",
   "execution_count": 575,
   "id": "b5c99457",
   "metadata": {},
   "outputs": [],
   "source": [
    "M['DBSCAN_gr'] = labeling"
   ]
  },
  {
   "cell_type": "code",
   "execution_count": 583,
   "id": "e6701f7f",
   "metadata": {},
   "outputs": [
    {
     "data": {
      "text/html": [
       "<div>\n",
       "<style scoped>\n",
       "    .dataframe tbody tr th:only-of-type {\n",
       "        vertical-align: middle;\n",
       "    }\n",
       "\n",
       "    .dataframe tbody tr th {\n",
       "        vertical-align: top;\n",
       "    }\n",
       "\n",
       "    .dataframe thead th {\n",
       "        text-align: right;\n",
       "    }\n",
       "</style>\n",
       "<table border=\"1\" class=\"dataframe\">\n",
       "  <thead>\n",
       "    <tr style=\"text-align: right;\">\n",
       "      <th></th>\n",
       "      <th>V1</th>\n",
       "      <th>V2</th>\n",
       "      <th>V3</th>\n",
       "      <th>V4</th>\n",
       "      <th>V5</th>\n",
       "      <th>V6</th>\n",
       "      <th>V7</th>\n",
       "      <th>V8</th>\n",
       "      <th>V9</th>\n",
       "      <th>V10</th>\n",
       "      <th>V11</th>\n",
       "    </tr>\n",
       "    <tr>\n",
       "      <th>DBSCAN_gr</th>\n",
       "      <th></th>\n",
       "      <th></th>\n",
       "      <th></th>\n",
       "      <th></th>\n",
       "      <th></th>\n",
       "      <th></th>\n",
       "      <th></th>\n",
       "      <th></th>\n",
       "      <th></th>\n",
       "      <th></th>\n",
       "      <th></th>\n",
       "    </tr>\n",
       "  </thead>\n",
       "  <tbody>\n",
       "    <tr>\n",
       "      <th>-1</th>\n",
       "      <td>2</td>\n",
       "      <td>2</td>\n",
       "      <td>2</td>\n",
       "      <td>2</td>\n",
       "      <td>2</td>\n",
       "      <td>2</td>\n",
       "      <td>2</td>\n",
       "      <td>2</td>\n",
       "      <td>2</td>\n",
       "      <td>2</td>\n",
       "      <td>2</td>\n",
       "    </tr>\n",
       "    <tr>\n",
       "      <th>0</th>\n",
       "      <td>4</td>\n",
       "      <td>4</td>\n",
       "      <td>4</td>\n",
       "      <td>4</td>\n",
       "      <td>3</td>\n",
       "      <td>3</td>\n",
       "      <td>3</td>\n",
       "      <td>2</td>\n",
       "      <td>3</td>\n",
       "      <td>3</td>\n",
       "      <td>3</td>\n",
       "    </tr>\n",
       "    <tr>\n",
       "      <th>1</th>\n",
       "      <td>2</td>\n",
       "      <td>2</td>\n",
       "      <td>2</td>\n",
       "      <td>2</td>\n",
       "      <td>2</td>\n",
       "      <td>2</td>\n",
       "      <td>2</td>\n",
       "      <td>3</td>\n",
       "      <td>4</td>\n",
       "      <td>4</td>\n",
       "      <td>4</td>\n",
       "    </tr>\n",
       "    <tr>\n",
       "      <th>2</th>\n",
       "      <td>3</td>\n",
       "      <td>3</td>\n",
       "      <td>3</td>\n",
       "      <td>3</td>\n",
       "      <td>3</td>\n",
       "      <td>3</td>\n",
       "      <td>3</td>\n",
       "      <td>3</td>\n",
       "      <td>3</td>\n",
       "      <td>3</td>\n",
       "      <td>3</td>\n",
       "    </tr>\n",
       "  </tbody>\n",
       "</table>\n",
       "</div>"
      ],
      "text/plain": [
       "           V1  V2  V3  V4  V5  V6  V7  V8  V9  V10  V11\n",
       "DBSCAN_gr                                              \n",
       "-1          2   2   2   2   2   2   2   2   2    2    2\n",
       " 0          4   4   4   4   3   3   3   2   3    3    3\n",
       " 1          2   2   2   2   2   2   2   3   4    4    4\n",
       " 2          3   3   3   3   3   3   3   3   3    3    3"
      ]
     },
     "execution_count": 583,
     "metadata": {},
     "output_type": "execute_result"
    }
   ],
   "source": [
    "round(M.groupby(\"DBSCAN_gr\").mean(), 1)\n",
    "round(M.groupby(\"DBSCAN_gr\").min(), 1)"
   ]
  },
  {
   "cell_type": "markdown",
   "id": "ad99cb40",
   "metadata": {},
   "source": [
    "Рассмотрим другое количество данных"
   ]
  },
  {
   "cell_type": "code",
   "execution_count": 577,
   "id": "578742b2",
   "metadata": {},
   "outputs": [],
   "source": [
    "df3 = df1[['V1', 'V2', 'V3', 'V4', 'V5', 'V6', 'V7', 'V8', 'V9', 'V10', 'V11']]"
   ]
  },
  {
   "cell_type": "code",
   "execution_count": 578,
   "id": "6f5753dd",
   "metadata": {},
   "outputs": [
    {
     "name": "stdout",
     "output_type": "stream",
     "text": [
      "-1 2\n"
     ]
    }
   ],
   "source": [
    "db_default = DBSCAN(eps = 0.01, min_samples = 40, metric='euclidean').fit(df3) \n",
    "labeling = db_default.labels_\n",
    "print(min(labeling), max(labeling))"
   ]
  },
  {
   "cell_type": "code",
   "execution_count": 579,
   "id": "74c74881",
   "metadata": {},
   "outputs": [
    {
     "data": {
      "text/html": [
       "<div>\n",
       "<style scoped>\n",
       "    .dataframe tbody tr th:only-of-type {\n",
       "        vertical-align: middle;\n",
       "    }\n",
       "\n",
       "    .dataframe tbody tr th {\n",
       "        vertical-align: top;\n",
       "    }\n",
       "\n",
       "    .dataframe thead th {\n",
       "        text-align: right;\n",
       "    }\n",
       "</style>\n",
       "<table border=\"1\" class=\"dataframe\">\n",
       "  <thead>\n",
       "    <tr style=\"text-align: right;\">\n",
       "      <th></th>\n",
       "      <th>V1</th>\n",
       "      <th>V2</th>\n",
       "      <th>V3</th>\n",
       "      <th>V4</th>\n",
       "      <th>V5</th>\n",
       "      <th>V6</th>\n",
       "      <th>V7</th>\n",
       "      <th>V8</th>\n",
       "      <th>V9</th>\n",
       "      <th>V10</th>\n",
       "      <th>V11</th>\n",
       "    </tr>\n",
       "    <tr>\n",
       "      <th>DBSCAN_gr</th>\n",
       "      <th></th>\n",
       "      <th></th>\n",
       "      <th></th>\n",
       "      <th></th>\n",
       "      <th></th>\n",
       "      <th></th>\n",
       "      <th></th>\n",
       "      <th></th>\n",
       "      <th></th>\n",
       "      <th></th>\n",
       "      <th></th>\n",
       "    </tr>\n",
       "  </thead>\n",
       "  <tbody>\n",
       "    <tr>\n",
       "      <th>-1</th>\n",
       "      <td>3.5</td>\n",
       "      <td>3.4</td>\n",
       "      <td>3.4</td>\n",
       "      <td>3.2</td>\n",
       "      <td>3.4</td>\n",
       "      <td>3.4</td>\n",
       "      <td>2.9</td>\n",
       "      <td>3.0</td>\n",
       "      <td>3.6</td>\n",
       "      <td>3.5</td>\n",
       "      <td>3.5</td>\n",
       "    </tr>\n",
       "    <tr>\n",
       "      <th>0</th>\n",
       "      <td>5.0</td>\n",
       "      <td>5.0</td>\n",
       "      <td>5.0</td>\n",
       "      <td>5.0</td>\n",
       "      <td>3.0</td>\n",
       "      <td>3.0</td>\n",
       "      <td>3.0</td>\n",
       "      <td>3.0</td>\n",
       "      <td>3.0</td>\n",
       "      <td>3.0</td>\n",
       "      <td>3.0</td>\n",
       "    </tr>\n",
       "    <tr>\n",
       "      <th>1</th>\n",
       "      <td>3.0</td>\n",
       "      <td>3.0</td>\n",
       "      <td>3.0</td>\n",
       "      <td>3.0</td>\n",
       "      <td>3.0</td>\n",
       "      <td>3.0</td>\n",
       "      <td>3.0</td>\n",
       "      <td>3.0</td>\n",
       "      <td>5.0</td>\n",
       "      <td>5.0</td>\n",
       "      <td>5.0</td>\n",
       "    </tr>\n",
       "    <tr>\n",
       "      <th>2</th>\n",
       "      <td>3.0</td>\n",
       "      <td>3.0</td>\n",
       "      <td>3.0</td>\n",
       "      <td>3.0</td>\n",
       "      <td>3.0</td>\n",
       "      <td>3.0</td>\n",
       "      <td>5.0</td>\n",
       "      <td>5.0</td>\n",
       "      <td>3.0</td>\n",
       "      <td>3.0</td>\n",
       "      <td>3.0</td>\n",
       "    </tr>\n",
       "  </tbody>\n",
       "</table>\n",
       "</div>"
      ],
      "text/plain": [
       "            V1   V2   V3   V4   V5   V6   V7   V8   V9  V10  V11\n",
       "DBSCAN_gr                                                       \n",
       "-1         3.5  3.4  3.4  3.2  3.4  3.4  2.9  3.0  3.6  3.5  3.5\n",
       " 0         5.0  5.0  5.0  5.0  3.0  3.0  3.0  3.0  3.0  3.0  3.0\n",
       " 1         3.0  3.0  3.0  3.0  3.0  3.0  3.0  3.0  5.0  5.0  5.0\n",
       " 2         3.0  3.0  3.0  3.0  3.0  3.0  5.0  5.0  3.0  3.0  3.0"
      ]
     },
     "execution_count": 579,
     "metadata": {},
     "output_type": "execute_result"
    }
   ],
   "source": [
    "df3['DBSCAN_gr'] = labeling\n",
    "round(df3.groupby(\"DBSCAN_gr\").mean(), 1)"
   ]
  },
  {
   "cell_type": "code",
   "execution_count": 580,
   "id": "57e66bc2",
   "metadata": {},
   "outputs": [
    {
     "name": "stdout",
     "output_type": "stream",
     "text": [
      "-1 3\n"
     ]
    }
   ],
   "source": [
    "db_default = DBSCAN(eps = 0.1, min_samples = 30, metric='euclidean').fit(df3) \n",
    "labeling = db_default.labels_\n",
    "print(min(labeling), max(labeling))"
   ]
  },
  {
   "cell_type": "code",
   "execution_count": 581,
   "id": "20451f05",
   "metadata": {},
   "outputs": [
    {
     "name": "stdout",
     "output_type": "stream",
     "text": [
      "            V1   V2   V3   V4   V5   V6   V7   V8   V9  V10  V11\n",
      "DBSCAN_gr                                                       \n",
      "-1         3.0  3.0  3.0  3.0  3.0  3.0  3.0  3.0  3.0  3.0  3.0\n",
      " 0         5.0  5.0  5.0  5.0  3.0  3.0  3.0  3.0  3.0  3.0  3.0\n",
      " 1         3.0  3.0  3.0  3.0  3.0  3.0  3.0  3.0  5.0  5.0  5.0\n",
      " 2         3.0  3.0  3.0  3.0  5.0  5.0  3.0  3.0  3.0  3.0  3.0\n",
      " 3         3.0  3.0  3.0  3.0  3.0  3.0  5.0  5.0  3.0  3.0  3.0\n"
     ]
    },
    {
     "data": {
      "text/html": [
       "<div>\n",
       "<style scoped>\n",
       "    .dataframe tbody tr th:only-of-type {\n",
       "        vertical-align: middle;\n",
       "    }\n",
       "\n",
       "    .dataframe tbody tr th {\n",
       "        vertical-align: top;\n",
       "    }\n",
       "\n",
       "    .dataframe thead th {\n",
       "        text-align: right;\n",
       "    }\n",
       "</style>\n",
       "<table border=\"1\" class=\"dataframe\">\n",
       "  <thead>\n",
       "    <tr style=\"text-align: right;\">\n",
       "      <th></th>\n",
       "      <th>V1</th>\n",
       "      <th>V2</th>\n",
       "      <th>V3</th>\n",
       "      <th>V4</th>\n",
       "      <th>V5</th>\n",
       "      <th>V6</th>\n",
       "      <th>V7</th>\n",
       "      <th>V8</th>\n",
       "      <th>V9</th>\n",
       "      <th>V10</th>\n",
       "      <th>V11</th>\n",
       "    </tr>\n",
       "    <tr>\n",
       "      <th>DBSCAN_gr</th>\n",
       "      <th></th>\n",
       "      <th></th>\n",
       "      <th></th>\n",
       "      <th></th>\n",
       "      <th></th>\n",
       "      <th></th>\n",
       "      <th></th>\n",
       "      <th></th>\n",
       "      <th></th>\n",
       "      <th></th>\n",
       "      <th></th>\n",
       "    </tr>\n",
       "  </thead>\n",
       "  <tbody>\n",
       "    <tr>\n",
       "      <th>-1</th>\n",
       "      <td>2</td>\n",
       "      <td>2</td>\n",
       "      <td>2</td>\n",
       "      <td>2</td>\n",
       "      <td>2</td>\n",
       "      <td>2</td>\n",
       "      <td>2</td>\n",
       "      <td>2</td>\n",
       "      <td>2</td>\n",
       "      <td>2</td>\n",
       "      <td>2</td>\n",
       "    </tr>\n",
       "    <tr>\n",
       "      <th>0</th>\n",
       "      <td>5</td>\n",
       "      <td>5</td>\n",
       "      <td>5</td>\n",
       "      <td>5</td>\n",
       "      <td>3</td>\n",
       "      <td>3</td>\n",
       "      <td>3</td>\n",
       "      <td>3</td>\n",
       "      <td>3</td>\n",
       "      <td>3</td>\n",
       "      <td>3</td>\n",
       "    </tr>\n",
       "    <tr>\n",
       "      <th>1</th>\n",
       "      <td>3</td>\n",
       "      <td>3</td>\n",
       "      <td>3</td>\n",
       "      <td>3</td>\n",
       "      <td>3</td>\n",
       "      <td>3</td>\n",
       "      <td>3</td>\n",
       "      <td>3</td>\n",
       "      <td>5</td>\n",
       "      <td>5</td>\n",
       "      <td>5</td>\n",
       "    </tr>\n",
       "    <tr>\n",
       "      <th>2</th>\n",
       "      <td>3</td>\n",
       "      <td>3</td>\n",
       "      <td>3</td>\n",
       "      <td>3</td>\n",
       "      <td>5</td>\n",
       "      <td>5</td>\n",
       "      <td>3</td>\n",
       "      <td>3</td>\n",
       "      <td>3</td>\n",
       "      <td>3</td>\n",
       "      <td>3</td>\n",
       "    </tr>\n",
       "    <tr>\n",
       "      <th>3</th>\n",
       "      <td>3</td>\n",
       "      <td>3</td>\n",
       "      <td>3</td>\n",
       "      <td>3</td>\n",
       "      <td>3</td>\n",
       "      <td>3</td>\n",
       "      <td>5</td>\n",
       "      <td>5</td>\n",
       "      <td>3</td>\n",
       "      <td>3</td>\n",
       "      <td>3</td>\n",
       "    </tr>\n",
       "  </tbody>\n",
       "</table>\n",
       "</div>"
      ],
      "text/plain": [
       "           V1  V2  V3  V4  V5  V6  V7  V8  V9  V10  V11\n",
       "DBSCAN_gr                                              \n",
       "-1          2   2   2   2   2   2   2   2   2    2    2\n",
       " 0          5   5   5   5   3   3   3   3   3    3    3\n",
       " 1          3   3   3   3   3   3   3   3   5    5    5\n",
       " 2          3   3   3   3   5   5   3   3   3    3    3\n",
       " 3          3   3   3   3   3   3   5   5   3    3    3"
      ]
     },
     "execution_count": 581,
     "metadata": {},
     "output_type": "execute_result"
    }
   ],
   "source": [
    "df3['DBSCAN_gr'] = labeling\n",
    "print(round(df3.groupby(\"DBSCAN_gr\").median(), 1))\n",
    "round(df3.groupby(\"DBSCAN_gr\").mean(), 1)\n",
    "round(df3.groupby(\"DBSCAN_gr\").min(), 1)"
   ]
  },
  {
   "cell_type": "markdown",
   "id": "cc6da08d",
   "metadata": {},
   "source": [
    "Результат можно проинтерпретировать следующим образом: Респонденты разделились как в предыдущих анализах, но к ним добавились люди, которые в оценках которых была хоть одна двойка."
   ]
  },
  {
   "cell_type": "markdown",
   "id": "13f1f517",
   "metadata": {},
   "source": [
    "Вывод: Разные методы кластеризации выдают разные результаты. Их можно интерпретировать по-разному в зависимости от наших целей."
   ]
  }
 ],
 "metadata": {
  "kernelspec": {
   "display_name": "Python 3 (ipykernel)",
   "language": "python",
   "name": "python3"
  },
  "language_info": {
   "codemirror_mode": {
    "name": "ipython",
    "version": 3
   },
   "file_extension": ".py",
   "mimetype": "text/x-python",
   "name": "python",
   "nbconvert_exporter": "python",
   "pygments_lexer": "ipython3",
   "version": "3.9.13"
  }
 },
 "nbformat": 4,
 "nbformat_minor": 5
}
