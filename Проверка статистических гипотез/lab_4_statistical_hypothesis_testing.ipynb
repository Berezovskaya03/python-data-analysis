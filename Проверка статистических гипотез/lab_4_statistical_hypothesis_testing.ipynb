{
  "nbformat": 4,
  "nbformat_minor": 0,
  "metadata": {
    "colab": {
      "provenance": []
    },
    "kernelspec": {
      "name": "python3",
      "display_name": "Python 3"
    },
    "language_info": {
      "name": "python"
    }
  },
  "cells": [
    {
      "cell_type": "code",
      "execution_count": 309,
      "metadata": {
        "id": "O6hPvDyRnvBM"
      },
      "outputs": [],
      "source": [
        "#   активируем библиотеки\n",
        "\n",
        "import pandas as pd\n",
        "import numpy as np\n",
        "\n",
        "import matplotlib\n",
        "import matplotlib.pyplot as plt\n",
        "\n",
        "#  Еще одна графическая библиотека\n",
        "import seaborn as sns\n",
        "\n",
        "#  Эта строчка нужна для того, чтобы картинки отображались в ячейках\n",
        "%matplotlib inline\n",
        "\n",
        "import warnings\n",
        "warnings.filterwarnings('ignore')\n"
      ]
    },
    {
      "cell_type": "code",
      "source": [
        "AH = pd.read_csv('AmesHousing.txt', sep=\"\\t\", header = 0, index_col=False)"
      ],
      "metadata": {
        "id": "tm6yCanCn3iU"
      },
      "execution_count": 310,
      "outputs": []
    },
    {
      "cell_type": "code",
      "source": [
        "AH.describe(include=[np.number]).info()"
      ],
      "metadata": {
        "colab": {
          "base_uri": "https://localhost:8080/"
        },
        "id": "AmvN0hmqoCBN",
        "outputId": "fa8a5744-7c9e-4435-8dad-b521a3d5b739"
      },
      "execution_count": 311,
      "outputs": [
        {
          "output_type": "stream",
          "name": "stdout",
          "text": [
            "<class 'pandas.core.frame.DataFrame'>\n",
            "Index: 8 entries, count to max\n",
            "Data columns (total 39 columns):\n",
            " #   Column           Non-Null Count  Dtype  \n",
            "---  ------           --------------  -----  \n",
            " 0   Order            8 non-null      float64\n",
            " 1   PID              8 non-null      float64\n",
            " 2   MS SubClass      8 non-null      float64\n",
            " 3   Lot Frontage     8 non-null      float64\n",
            " 4   Lot Area         8 non-null      float64\n",
            " 5   Overall Qual     8 non-null      float64\n",
            " 6   Overall Cond     8 non-null      float64\n",
            " 7   Year Built       8 non-null      float64\n",
            " 8   Year Remod/Add   8 non-null      float64\n",
            " 9   Mas Vnr Area     8 non-null      float64\n",
            " 10  BsmtFin SF 1     8 non-null      float64\n",
            " 11  BsmtFin SF 2     8 non-null      float64\n",
            " 12  Bsmt Unf SF      8 non-null      float64\n",
            " 13  Total Bsmt SF    8 non-null      float64\n",
            " 14  1st Flr SF       8 non-null      float64\n",
            " 15  2nd Flr SF       8 non-null      float64\n",
            " 16  Low Qual Fin SF  8 non-null      float64\n",
            " 17  Gr Liv Area      8 non-null      float64\n",
            " 18  Bsmt Full Bath   8 non-null      float64\n",
            " 19  Bsmt Half Bath   8 non-null      float64\n",
            " 20  Full Bath        8 non-null      float64\n",
            " 21  Half Bath        8 non-null      float64\n",
            " 22  Bedroom AbvGr    8 non-null      float64\n",
            " 23  Kitchen AbvGr    8 non-null      float64\n",
            " 24  TotRms AbvGrd    8 non-null      float64\n",
            " 25  Fireplaces       8 non-null      float64\n",
            " 26  Garage Yr Blt    8 non-null      float64\n",
            " 27  Garage Cars      8 non-null      float64\n",
            " 28  Garage Area      8 non-null      float64\n",
            " 29  Wood Deck SF     8 non-null      float64\n",
            " 30  Open Porch SF    8 non-null      float64\n",
            " 31  Enclosed Porch   8 non-null      float64\n",
            " 32  3Ssn Porch       8 non-null      float64\n",
            " 33  Screen Porch     8 non-null      float64\n",
            " 34  Pool Area        8 non-null      float64\n",
            " 35  Misc Val         8 non-null      float64\n",
            " 36  Mo Sold          8 non-null      float64\n",
            " 37  Yr Sold          8 non-null      float64\n",
            " 38  SalePrice        8 non-null      float64\n",
            "dtypes: float64(39)\n",
            "memory usage: 2.5+ KB\n"
          ]
        }
      ]
    },
    {
      "cell_type": "code",
      "source": [
        "import random\n",
        "\n",
        "random.randint(0, 38) #31"
      ],
      "metadata": {
        "colab": {
          "base_uri": "https://localhost:8080/"
        },
        "id": "jgZU2vR2pGWD",
        "outputId": "c6d028d2-ef59-4943-db39-917273dd83b6"
      },
      "execution_count": 312,
      "outputs": [
        {
          "output_type": "execute_result",
          "data": {
            "text/plain": [
              "38"
            ]
          },
          "metadata": {},
          "execution_count": 312
        }
      ]
    },
    {
      "cell_type": "code",
      "source": [
        "EPmedian = AH['Enclosed Porch'].median()\n",
        "EPmedian"
      ],
      "metadata": {
        "colab": {
          "base_uri": "https://localhost:8080/"
        },
        "id": "caGKc3iNSTZx",
        "outputId": "98068cd5-e9c3-4bfe-845c-4a34bfd446eb"
      },
      "execution_count": 313,
      "outputs": [
        {
          "output_type": "execute_result",
          "data": {
            "text/plain": [
              "0.0"
            ]
          },
          "metadata": {},
          "execution_count": 313
        }
      ]
    },
    {
      "cell_type": "markdown",
      "source": [
        "Получили, что дома делятся на те в которых есть закрытая веранда и те, у которых такой веранды нет"
      ],
      "metadata": {
        "id": "1i0cruEWfmCW"
      }
    },
    {
      "cell_type": "code",
      "source": [
        "Porch = AH[AH['Enclosed Porch'] > EPmedian] #459\n",
        "no_Porch = AH[AH['Enclosed Porch'] == EPmedian] #2471\n",
        "x = Porch['SalePrice'].sort_values(ascending=False) # по убыванию\n",
        "y = no_Porch['SalePrice'].sort_values(ascending=False)"
      ],
      "metadata": {
        "id": "PKZpyowPT-83"
      },
      "execution_count": 314,
      "outputs": []
    },
    {
      "cell_type": "code",
      "source": [
        "from scipy import stats"
      ],
      "metadata": {
        "id": "sKxhrpIB_bLU"
      },
      "execution_count": 315,
      "outputs": []
    },
    {
      "cell_type": "code",
      "source": [
        "res = stats.shapiro(x)\n",
        "print(res.statistic)\n",
        "res = stats.shapiro(y)\n",
        "print(res.statistic)"
      ],
      "metadata": {
        "colab": {
          "base_uri": "https://localhost:8080/"
        },
        "id": "_tWmncE-8M-y",
        "outputId": "354027b1-dd5d-43ae-8a8d-2d6d30d224c0"
      },
      "execution_count": 316,
      "outputs": [
        {
          "output_type": "stream",
          "name": "stdout",
          "text": [
            "0.8552611913716313\n",
            "0.8775257896413539\n"
          ]
        }
      ]
    },
    {
      "cell_type": "code",
      "source": [
        "# Функции определяются так.\n",
        "bins = 8\n",
        "def two_histograms(x, y):\n",
        "# После определения функции полезно бывает добавить её описание в таком стиле.\n",
        "# Тройные кавычки -- для обрамления многострочных строковых литералов.\n",
        "    \"\"\"\n",
        "    Функция, которая построит две гистограммы на одной картинке.\n",
        "    Дополнительно пунктирными линиями указываются средние значения выборок.\n",
        "    x: вектор pd.Series,\n",
        "    y: вектор pd.Series\n",
        "    \"\"\"\n",
        "    x.hist(alpha=0.5, weights=[1./len(x)]*len(x), bins = bins) #alpha=0.5\n",
        "    y.hist(alpha=0.5, weights=[1./len(y)]*len(y), bins = bins)\n",
        "    plt.axvline(x.mean(), color='red', alpha=0.8, linestyle='dashed')\n",
        "    plt.axvline(y.mean(), color='blue', alpha=0.8, linestyle='dashed')\n",
        "    plt.legend([x.name, y.name])"
      ],
      "metadata": {
        "id": "N7DlHS_gg4qf"
      },
      "execution_count": 317,
      "outputs": []
    },
    {
      "cell_type": "code",
      "source": [
        "x.name, y.name = 'Porch', 'no_Porch'"
      ],
      "metadata": {
        "id": "nNVytJX5mb-k"
      },
      "execution_count": 318,
      "outputs": []
    },
    {
      "cell_type": "code",
      "source": [
        "two_histograms(x, y)"
      ],
      "metadata": {
        "colab": {
          "base_uri": "https://localhost:8080/",
          "height": 430
        },
        "id": "bP40HcW_jM72",
        "outputId": "2a3894d8-2c5a-46a0-9504-b594daea6e8e"
      },
      "execution_count": 319,
      "outputs": [
        {
          "output_type": "display_data",
          "data": {
            "text/plain": [
              "<Figure size 640x480 with 1 Axes>"
            ],
            "image/png": "[encoded data removed]"
          },
          "metadata": {}
        }
      ]
    },
    {
      "cell_type": "markdown",
      "source": [
        "В распределении есть выбросы, которые можно удалить."
      ],
      "metadata": {
        "id": "K3mgi5YXq_ic"
      }
    },
    {
      "cell_type": "code",
      "source": [
        "Porch = AH[(AH['Enclosed Porch'] > EPmedian) & (AH['SalePrice'] < 400000)]\n",
        "x = Porch['SalePrice'].sort_values(ascending=False)"
      ],
      "metadata": {
        "id": "131IkSNvrPPg"
      },
      "execution_count": 320,
      "outputs": []
    },
    {
      "cell_type": "code",
      "source": [
        "res = stats.shapiro(x)\n",
        "print(res.statistic)"
      ],
      "metadata": {
        "colab": {
          "base_uri": "https://localhost:8080/"
        },
        "id": "-UjxGeei_ECU",
        "outputId": "1f178ac8-0c4c-4c6d-bfa4-5756d56f1ab0"
      },
      "execution_count": 321,
      "outputs": [
        {
          "output_type": "stream",
          "name": "stdout",
          "text": [
            "0.9154040144957931\n"
          ]
        }
      ]
    },
    {
      "cell_type": "code",
      "source": [
        "x.name= 'no_Porch'"
      ],
      "metadata": {
        "id": "fL-KLznESLhd"
      },
      "execution_count": 322,
      "outputs": []
    },
    {
      "cell_type": "code",
      "source": [
        "two_histograms(x, y)"
      ],
      "metadata": {
        "colab": {
          "base_uri": "https://localhost:8080/",
          "height": 430
        },
        "id": "i8hwPzjBQILt",
        "outputId": "d75f5df7-8d4b-4cb0-b4a1-d554b52907f2"
      },
      "execution_count": 323,
      "outputs": [
        {
          "output_type": "display_data",
          "data": {
            "text/plain": [
              "<Figure size 640x480 with 1 Axes>"
            ],
            "image/png": "[encoded data removed]"
          },
          "metadata": {}
        }
      ]
    },
    {
      "cell_type": "markdown",
      "source": [
        "Выбросы удалили, распределения имеют колокообразную форму, существенно не отклоняются от нормальности."
      ],
      "metadata": {
        "id": "janz2mTRUHup"
      }
    },
    {
      "cell_type": "markdown",
      "source": [
        "Вывод: используем Т-критерий стьюдента"
      ],
      "metadata": {
        "id": "KdlKHItVUWL8"
      }
    },
    {
      "cell_type": "code",
      "source": [
        "# Перед применение критерия Стюдента проверим гипотезу о равенстве дисперсий\n",
        "res = stats.fligner(x, y)\n",
        "print('p-value: ',res[1], res[1] >= 0.01)"
      ],
      "metadata": {
        "colab": {
          "base_uri": "https://localhost:8080/"
        },
        "id": "WMO2isXvUT15",
        "outputId": "ae6e6571-605c-4835-8384-55b4b9014219"
      },
      "execution_count": 324,
      "outputs": [
        {
          "output_type": "stream",
          "name": "stdout",
          "text": [
            "p-value:  1.156128444910239e-14 False\n"
          ]
        }
      ]
    },
    {
      "cell_type": "markdown",
      "source": [
        "Гипотезу о равенстве дисперсий отвергаем. Выборки несвязные"
      ],
      "metadata": {
        "id": "Q6GV7SgHXGO4"
      }
    },
    {
      "cell_type": "code",
      "source": [
        "res = stats.ttest_ind(x, y, equal_var=False)\n",
        "print(res[1] >= 0.01)\n",
        "res[1]"
      ],
      "metadata": {
        "colab": {
          "base_uri": "https://localhost:8080/"
        },
        "id": "Z0sYiSs-WARG",
        "outputId": "f67ddb53-d998-4985-98eb-a2c4b9152fca"
      },
      "execution_count": 325,
      "outputs": [
        {
          "output_type": "stream",
          "name": "stdout",
          "text": [
            "False\n"
          ]
        },
        {
          "output_type": "execute_result",
          "data": {
            "text/plain": [
              "3.1270539862604027e-50"
            ]
          },
          "metadata": {},
          "execution_count": 325
        }
      ]
    },
    {
      "cell_type": "markdown",
      "source": [
        "p-значение меньше альфа, гипотезу о равенстве цен при присутствии и отсутствие веранды отвергаем"
      ],
      "metadata": {
        "id": "tF4BTwTCajuj"
      }
    },
    {
      "cell_type": "code",
      "source": [
        "AH['No/Yes'] = AH['Enclosed Porch'] > EPmedian\n",
        "sns.boxplot(data=AH, y='SalePrice', x='No/Yes', width=.5)"
      ],
      "metadata": {
        "colab": {
          "base_uri": "https://localhost:8080/",
          "height": 466
        },
        "id": "WF8y2m1DbghB",
        "outputId": "0d028a4b-f637-4d0a-8bfc-f820744a318d"
      },
      "execution_count": 326,
      "outputs": [
        {
          "output_type": "execute_result",
          "data": {
            "text/plain": [
              "<Axes: xlabel='No/Yes', ylabel='SalePrice'>"
            ]
          },
          "metadata": {},
          "execution_count": 326
        },
        {
          "output_type": "display_data",
          "data": {
            "text/plain": [
              "<Figure size 640x480 with 1 Axes>"
            ],
            "image/png": "[encoded data removed]"
          },
          "metadata": {}
        }
      ]
    },
    {
      "cell_type": "markdown",
      "source": [
        "## Проведём сравнение для второй переменной\n"
      ],
      "metadata": {
        "id": "0kO_gkMVw8U6"
      }
    },
    {
      "cell_type": "code",
      "source": [
        "random.randint(0, 38) # 4"
      ],
      "metadata": {
        "colab": {
          "base_uri": "https://localhost:8080/"
        },
        "id": "LzkJjf8QxEbJ",
        "outputId": "90cc6e03-d149-4441-eaac-ff78e190eee2"
      },
      "execution_count": 327,
      "outputs": [
        {
          "output_type": "execute_result",
          "data": {
            "text/plain": [
              "15"
            ]
          },
          "metadata": {},
          "execution_count": 327
        }
      ]
    },
    {
      "cell_type": "markdown",
      "source": [
        "Рассмотрим площадь участка"
      ],
      "metadata": {
        "id": "VnWITgdJx8_u"
      }
    },
    {
      "cell_type": "code",
      "source": [
        "LAmedian = AH['Lot Area'].median()\n",
        "LAmedian"
      ],
      "metadata": {
        "colab": {
          "base_uri": "https://localhost:8080/"
        },
        "id": "f9L9fxflx1fg",
        "outputId": "0f1922ea-f008-421c-c3cb-a114510a9b24"
      },
      "execution_count": 328,
      "outputs": [
        {
          "output_type": "execute_result",
          "data": {
            "text/plain": [
              "9436.5"
            ]
          },
          "metadata": {},
          "execution_count": 328
        }
      ]
    },
    {
      "cell_type": "code",
      "source": [
        "Big_area = AH[AH['Lot Area'] >= LAmedian] #1465\n",
        "Small_area = AH[AH['Lot Area'] < LAmedian] #1465\n",
        "x = Big_area['SalePrice'].sort_values(ascending=False)\n",
        "y = Small_area['SalePrice'].sort_values(ascending=False)\n",
        "len(Small_area)"
      ],
      "metadata": {
        "colab": {
          "base_uri": "https://localhost:8080/"
        },
        "id": "OhlMlwJ6yJmw",
        "outputId": "ea2cbf3b-8baa-4792-9aef-f5b2c278d868"
      },
      "execution_count": 329,
      "outputs": [
        {
          "output_type": "execute_result",
          "data": {
            "text/plain": [
              "1465"
            ]
          },
          "metadata": {},
          "execution_count": 329
        }
      ]
    },
    {
      "cell_type": "markdown",
      "source": [
        "Заметим, что дома разделились на две равные части"
      ],
      "metadata": {
        "id": "KM0vPL9Ty3m6"
      }
    },
    {
      "cell_type": "code",
      "source": [
        "x.name, y.name = 'Big_area', 'Small_area'"
      ],
      "metadata": {
        "id": "gctdIi8pyl4E"
      },
      "execution_count": 330,
      "outputs": []
    },
    {
      "cell_type": "code",
      "source": [
        "two_histograms(x, y)"
      ],
      "metadata": {
        "colab": {
          "base_uri": "https://localhost:8080/",
          "height": 430
        },
        "id": "hvpDNGjXzSjb",
        "outputId": "a157acbe-dc92-40ad-9e8f-3d810094991b"
      },
      "execution_count": 331,
      "outputs": [
        {
          "output_type": "display_data",
          "data": {
            "text/plain": [
              "<Figure size 640x480 with 1 Axes>"
            ],
            "image/png": "[encoded data removed]"
          },
          "metadata": {}
        }
      ]
    },
    {
      "cell_type": "markdown",
      "source": [
        "Выбросов нет, распределения имеют колокообразную форму, существенно не отклоняются от нормальности."
      ],
      "metadata": {
        "id": "RB00AnJ1zz0m"
      }
    },
    {
      "cell_type": "code",
      "source": [
        "res = stats.fligner(x, y)\n",
        "print('p-value: ',res[1], res[1] >= 0.01)"
      ],
      "metadata": {
        "colab": {
          "base_uri": "https://localhost:8080/"
        },
        "id": "cknFlF79zVBX",
        "outputId": "a01bd2e7-69e5-424a-d49c-eaa5548e6f75"
      },
      "execution_count": 332,
      "outputs": [
        {
          "output_type": "stream",
          "name": "stdout",
          "text": [
            "p-value:  1.1998916276068526e-41 False\n"
          ]
        }
      ]
    },
    {
      "cell_type": "code",
      "source": [
        "res = stats.ttest_ind(x, y, equal_var=False)\n",
        "print(res[1] >= 0.01)\n",
        "res[1]"
      ],
      "metadata": {
        "colab": {
          "base_uri": "https://localhost:8080/"
        },
        "id": "_tHcujoj0G-w",
        "outputId": "1f2c3fd4-81e3-420d-f8ac-e9ad104a4f61"
      },
      "execution_count": 333,
      "outputs": [
        {
          "output_type": "stream",
          "name": "stdout",
          "text": [
            "False\n"
          ]
        },
        {
          "output_type": "execute_result",
          "data": {
            "text/plain": [
              "7.748129442500601e-88"
            ]
          },
          "metadata": {},
          "execution_count": 333
        }
      ]
    },
    {
      "cell_type": "markdown",
      "source": [
        "p-значение меньше альфа, гипотезу о равенстве цен при больших и маленьких участках отвергаем."
      ],
      "metadata": {
        "id": "nJTlgPz20UM4"
      }
    },
    {
      "cell_type": "code",
      "source": [
        "AH['Big/Small'] = AH['Lot Area'] >= LAmedian\n",
        "sns.boxplot(data=AH, y='SalePrice', x='Big/Small', width=.5)"
      ],
      "metadata": {
        "colab": {
          "base_uri": "https://localhost:8080/",
          "height": 466
        },
        "id": "d5-jPxF80TlL",
        "outputId": "7c4e50f1-60b9-4842-a69a-b2f821302072"
      },
      "execution_count": 334,
      "outputs": [
        {
          "output_type": "execute_result",
          "data": {
            "text/plain": [
              "<Axes: xlabel='Big/Small', ylabel='SalePrice'>"
            ]
          },
          "metadata": {},
          "execution_count": 334
        },
        {
          "output_type": "display_data",
          "data": {
            "text/plain": [
              "<Figure size 640x480 with 1 Axes>"
            ],
            "image/png": "[encoded data removed]"
          },
          "metadata": {}
        }
      ]
    },
    {
      "cell_type": "code",
      "source": [
        "from scipy.stats import mannwhitneyu\n",
        "U1, p = mannwhitneyu(x, y)\n",
        "print(U1, p)"
      ],
      "metadata": {
        "colab": {
          "base_uri": "https://localhost:8080/"
        },
        "id": "FpgZa5M2BFzF",
        "outputId": "34e1fe05-bb93-4c98-e5d8-bce583f690c2"
      },
      "execution_count": 335,
      "outputs": [
        {
          "output_type": "stream",
          "name": "stdout",
          "text": [
            "1528687.5 4.241365162090767e-88\n"
          ]
        }
      ]
    },
    {
      "cell_type": "markdown",
      "source": [
        "Вывод: гипотеза отвергается"
      ],
      "metadata": {
        "id": "10Dylc4ZBmlR"
      }
    }
  ]
}